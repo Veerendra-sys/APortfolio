{
  "nbformat": 4,
  "nbformat_minor": 0,
  "metadata": {
    "colab": {
      "provenance": [],
      "authorship_tag": "ABX9TyMsJa0QiILmXRQsh9ipDHLW",
      "include_colab_link": true
    },
    "kernelspec": {
      "name": "python3",
      "display_name": "Python 3"
    },
    "language_info": {
      "name": "python"
    }
  },
  "cells": [
    {
      "cell_type": "markdown",
      "metadata": {
        "id": "view-in-github",
        "colab_type": "text"
      },
      "source": [
        "<a href=\"https://colab.research.google.com/github/Veerendra-sys/APortfolio/blob/main/300%2Bpython_problems.ipynb\" target=\"_parent\"><img src=\"https://colab.research.google.com/assets/colab-badge.svg\" alt=\"Open In Colab\"/></a>"
      ]
    },
    {
      "cell_type": "code",
      "execution_count": null,
      "metadata": {
        "colab": {
          "base_uri": "https://localhost:8080/"
        },
        "id": "2YtIU2f4YjnP",
        "outputId": "2e94e99b-8e21-4c03-f810-ca407b737bb0"
      },
      "outputs": [
        {
          "output_type": "stream",
          "name": "stdout",
          "text": [
            "1\n",
            "4\n",
            "9\n",
            "16\n",
            "25\n"
          ]
        }
      ],
      "source": [
        "lst=[1,2,3,4,5]\n",
        "for i in lst:\n",
        "  print(i*i)"
      ]
    },
    {
      "cell_type": "code",
      "source": [
        "Sub1=int(input('enter the marks'))\n",
        "Sub2=int(input('enter the marks'))\n",
        "Sub3=int(input('enter the marks'))\n",
        "Sub4=int(input('enter the marks'))\n",
        "Sub5=int(input('enter the marks'))\n",
        "Sub6=int(input('enter the marks'))\n",
        "total=Sub1+Sub2+Sub3+Sub4+Sub5+Sub6\n",
        "print(total)\n",
        "avg=total/6\n",
        "print(avg)"
      ],
      "metadata": {
        "colab": {
          "base_uri": "https://localhost:8080/"
        },
        "id": "et_2YfEyYsSH",
        "outputId": "b0d83072-89b5-4b9b-9d83-a072b8bf4817"
      },
      "execution_count": null,
      "outputs": [
        {
          "output_type": "stream",
          "name": "stdout",
          "text": [
            "enter the marks10\n",
            "enter the marks10\n",
            "enter the marks10\n",
            "enter the marks10\n",
            "enter the marks10\n",
            "enter the marks10\n",
            "60\n",
            "10.0\n"
          ]
        }
      ]
    },
    {
      "cell_type": "code",
      "source": [
        "lst=[3, 4, 6, 7, 9, 10, 2, 8]\n",
        "new_lst=[]\n",
        "for i in lst:\n",
        "  if i>5 and i<10:\n",
        "    new_lst.append(i)\n",
        "print(new_lst)\n",
        "print(sum(new_lst))"
      ],
      "metadata": {
        "colab": {
          "base_uri": "https://localhost:8080/"
        },
        "id": "W373h8XpZJSP",
        "outputId": "078d0059-ca71-4a50-e9ea-6bf42d9d278d"
      },
      "execution_count": null,
      "outputs": [
        {
          "output_type": "stream",
          "name": "stdout",
          "text": [
            "[6, 7, 9, 8]\n",
            "30\n"
          ]
        }
      ]
    },
    {
      "cell_type": "code",
      "source": [
        "students=[\"Alice\", \"Bob\", \"Charlie\", \"Diana\", \"Ethan\", \"Fiona\", \"George\",\"Faruq\",\"Fahad\"]\n",
        "for i in students:\n",
        "  if not i.startswith('F'):\n",
        "    print(i)"
      ],
      "metadata": {
        "colab": {
          "base_uri": "https://localhost:8080/"
        },
        "id": "5I9REV2LacvN",
        "outputId": "f19b3b6f-883a-49f3-e8cd-914367f5cbfe"
      },
      "execution_count": null,
      "outputs": [
        {
          "output_type": "stream",
          "name": "stdout",
          "text": [
            "Alice\n",
            "Bob\n",
            "Charlie\n",
            "Diana\n",
            "Ethan\n",
            "George\n"
          ]
        }
      ]
    },
    {
      "cell_type": "code",
      "source": [
        "students = [\"Charlie\",\"Alice\", \"Bob\",  \"Diana\", \"Ethan\",\"Alice\",\"George\",\"Faruq\"]\n",
        "for i in students:\n",
        "  if len(i)>5:\n",
        "    print(i)"
      ],
      "metadata": {
        "id": "C1NqXAC4dO4i",
        "colab": {
          "base_uri": "https://localhost:8080/"
        },
        "outputId": "668cc6a7-8b5a-413e-e61a-7042c9ce7e11"
      },
      "execution_count": null,
      "outputs": [
        {
          "output_type": "stream",
          "name": "stdout",
          "text": [
            "Charlie\n",
            "George\n"
          ]
        }
      ]
    },
    {
      "cell_type": "code",
      "source": [
        "num1=int(input('ENter the first number'))\n",
        "num2=int(input('ENter the second number'))\n",
        "highest=max(num1,num2)\n",
        "print(highest)"
      ],
      "metadata": {
        "colab": {
          "base_uri": "https://localhost:8080/"
        },
        "id": "Cw-TR4s4AbFP",
        "outputId": "46f664bd-adf6-451c-9a42-1c2c55bea1e8"
      },
      "execution_count": null,
      "outputs": [
        {
          "output_type": "stream",
          "name": "stdout",
          "text": [
            "ENter the first number20\n",
            "ENter the second number5\n",
            "20\n"
          ]
        }
      ]
    },
    {
      "cell_type": "code",
      "source": [
        "num1=int(input('ENter the first number'))\n",
        "num2=int(input('ENter the second number'))\n",
        "if num1>num2:\n",
        "  print(num1)\n",
        "else:\n",
        "  print(num2)"
      ],
      "metadata": {
        "colab": {
          "base_uri": "https://localhost:8080/"
        },
        "id": "H8YUcvHICMhr",
        "outputId": "53cda4f0-86cb-4147-b467-8e977c46c995"
      },
      "execution_count": null,
      "outputs": [
        {
          "output_type": "stream",
          "name": "stdout",
          "text": [
            "ENter the first number12\n",
            "ENter the second number19\n",
            "19\n"
          ]
        }
      ]
    },
    {
      "cell_type": "code",
      "source": [
        "n=int(input('enter the number'))\n",
        "for i in range(0,n+1):\n",
        "  print('*'*i)"
      ],
      "metadata": {
        "colab": {
          "base_uri": "https://localhost:8080/"
        },
        "id": "izQ9xhnhCejN",
        "outputId": "924b1174-82a0-42f1-df11-e4a53876e518"
      },
      "execution_count": null,
      "outputs": [
        {
          "output_type": "stream",
          "name": "stdout",
          "text": [
            "enter the number5\n",
            "\n",
            "*\n",
            "**\n",
            "***\n",
            "****\n",
            "*****\n"
          ]
        }
      ]
    },
    {
      "cell_type": "code",
      "source": [
        "n=int(input('enter the number'))\n",
        "for i in range(5,0,-1):\n",
        "  print('*'*i)"
      ],
      "metadata": {
        "colab": {
          "base_uri": "https://localhost:8080/"
        },
        "id": "hrXxWW4xDI_T",
        "outputId": "d7cf9c24-39f9-4a66-9f33-e0e2e7bb364d"
      },
      "execution_count": null,
      "outputs": [
        {
          "output_type": "stream",
          "name": "stdout",
          "text": [
            "enter the number5\n",
            "*****\n",
            "****\n",
            "***\n",
            "**\n",
            "*\n"
          ]
        }
      ]
    },
    {
      "cell_type": "code",
      "source": [
        "n=int(input('enter the number'))\n",
        "for i in range(0,n+1):\n",
        "  print(\" \"*(n-i)+\"*\"*i)"
      ],
      "metadata": {
        "colab": {
          "base_uri": "https://localhost:8080/"
        },
        "id": "eCe8LTCJHkQ5",
        "outputId": "e6124620-d6a4-466a-d793-c98382f996a5"
      },
      "execution_count": null,
      "outputs": [
        {
          "output_type": "stream",
          "name": "stdout",
          "text": [
            "enter the number5\n",
            "     \n",
            "    *\n",
            "   **\n",
            "  ***\n",
            " ****\n",
            "*****\n"
          ]
        }
      ]
    },
    {
      "cell_type": "code",
      "source": [
        "password=input('Enter the password')\n",
        "if password.isalpha() and password.isalnum():\n",
        "  print('valid password')\n",
        "else:\n",
        "  print('invalid password')"
      ],
      "metadata": {
        "colab": {
          "base_uri": "https://localhost:8080/"
        },
        "id": "GQ786z59I26-",
        "outputId": "3f0651b0-d785-441d-c74f-4f038c194263"
      },
      "execution_count": null,
      "outputs": [
        {
          "output_type": "stream",
          "name": "stdout",
          "text": [
            "Enter the passwordveerendra\n",
            "valid password\n"
          ]
        }
      ]
    },
    {
      "cell_type": "code",
      "source": [
        "number=int(input('ENter the number'))\n",
        "lst=list(map(int,str(number)))\n",
        "print(lst)\n",
        "total=sum(lst)\n",
        "print(total)"
      ],
      "metadata": {
        "colab": {
          "base_uri": "https://localhost:8080/"
        },
        "id": "LmSvXhaxOD_n",
        "outputId": "2fc2da1c-4053-4dfa-d499-89bc4e3fa7aa"
      },
      "execution_count": null,
      "outputs": [
        {
          "output_type": "stream",
          "name": "stdout",
          "text": [
            "ENter the number12345\n",
            "[1, 2, 3, 4, 5]\n",
            "15\n"
          ]
        }
      ]
    },
    {
      "cell_type": "code",
      "source": [
        "number=int(input('ENter the number'))\n",
        "lst=list(map(int,str(number)))\n",
        "print(lst)\n",
        "remove=lst.clear()\n",
        "print(lst)"
      ],
      "metadata": {
        "colab": {
          "base_uri": "https://localhost:8080/"
        },
        "id": "atYAFGqpP2ni",
        "outputId": "2b7eeb0d-67a2-4f7e-c178-0fe7f926085f"
      },
      "execution_count": null,
      "outputs": [
        {
          "output_type": "stream",
          "name": "stdout",
          "text": [
            "ENter the number123456\n",
            "[1, 2, 3, 4, 5, 6]\n",
            "[]\n"
          ]
        }
      ]
    },
    {
      "cell_type": "code",
      "source": [
        "n=int(input('ENter the total number of rows'))\n",
        "for i in range(1,n):\n",
        "  for j in range(i):\n",
        "    print(chr(64+i+j),end=\"\\t\")\n",
        "  print()"
      ],
      "metadata": {
        "colab": {
          "base_uri": "https://localhost:8080/"
        },
        "id": "d6JiCH0eQdYs",
        "outputId": "4fd91bc5-0794-4c59-c9fe-5a85e2f76815"
      },
      "execution_count": null,
      "outputs": [
        {
          "output_type": "stream",
          "name": "stdout",
          "text": [
            "ENter the total number of rows7\n",
            "A\t\n",
            "B\tC\t\n",
            "C\tD\tE\t\n",
            "D\tE\tF\tG\t\n",
            "E\tF\tG\tH\tI\t\n",
            "F\tG\tH\tI\tJ\tK\t\n"
          ]
        }
      ]
    },
    {
      "cell_type": "code",
      "source": [
        "dict1={'name':'veerendra','address':'B.mattam,andhrapradesh','phonenumber':'8074625644'}\n",
        "print(dict1.values())\n",
        "dict1['phonenumber']='9989036544'\n",
        "print(dict1.values())"
      ],
      "metadata": {
        "colab": {
          "base_uri": "https://localhost:8080/"
        },
        "id": "zKqEGgRiTbc5",
        "outputId": "245a7c84-4926-4ef0-b3c3-da1d18133a25"
      },
      "execution_count": null,
      "outputs": [
        {
          "output_type": "stream",
          "name": "stdout",
          "text": [
            "dict_values(['veerendra', 'B.mattam,andhrapradesh', '8074625644'])\n",
            "dict_values(['veerendra', 'B.mattam,andhrapradesh', '9989036544'])\n"
          ]
        }
      ]
    },
    {
      "cell_type": "code",
      "source": [
        "a=int(input('enter the number'))\n",
        "b=int(input('enter the number'))\n",
        "c=int(input('enter the number'))\n",
        "upper=a+b+c*a\n",
        "print(upper)\n",
        "lower=b*(2*a+3*b)\n",
        "print(b)\n",
        "print(upper/lower)"
      ],
      "metadata": {
        "colab": {
          "base_uri": "https://localhost:8080/"
        },
        "id": "451McTtYTm2S",
        "outputId": "0e025df6-7f77-4e6a-87b4-ead8f1af2b94"
      },
      "execution_count": null,
      "outputs": [
        {
          "output_type": "stream",
          "name": "stdout",
          "text": [
            "enter the number1\n",
            "enter the number2\n",
            "enter the number6\n",
            "9\n",
            "2\n",
            "0.5625\n"
          ]
        }
      ]
    },
    {
      "cell_type": "code",
      "source": [
        "character=input('Enter thw character')\n",
        "vowel='aeiouAEIOU'\n",
        "if character in vowel:\n",
        "  print('It containes vowel')\n",
        "else:\n",
        "  print('IT is consonent')"
      ],
      "metadata": {
        "colab": {
          "base_uri": "https://localhost:8080/"
        },
        "id": "rR-Kx9nBWF97",
        "outputId": "53aca57c-8e4b-462c-b335-0ec4958e6960"
      },
      "execution_count": null,
      "outputs": [
        {
          "output_type": "stream",
          "name": "stdout",
          "text": [
            "Enter thw charactereu\n",
            "IT is consonent\n"
          ]
        }
      ]
    },
    {
      "cell_type": "code",
      "source": [
        "import datetime\n",
        "today=datetime.date.today()\n",
        "day_name = today.strftime('%A')\n",
        "print(day_name)\n",
        "if day_name=='Sunday':\n",
        "  print('Holiday')\n",
        "else:\n",
        "  print('weekday')"
      ],
      "metadata": {
        "colab": {
          "base_uri": "https://localhost:8080/"
        },
        "id": "r70dEsMiX1pj",
        "outputId": "13433af9-fafe-40f1-a4e4-0f024ffaa34a"
      },
      "execution_count": null,
      "outputs": [
        {
          "output_type": "stream",
          "name": "stdout",
          "text": [
            "Thursday\n",
            "weekday\n"
          ]
        }
      ]
    },
    {
      "cell_type": "code",
      "source": [
        "n=int(input('Enter the year number'))\n",
        "if  n%100!=0 or n%400==0 and n%4==0:\n",
        "  print('leap year')\n",
        "else:\n",
        "  print('not leap year')"
      ],
      "metadata": {
        "colab": {
          "base_uri": "https://localhost:8080/"
        },
        "id": "sLCbUyntZC5h",
        "outputId": "5085bbb3-7613-4f0d-d5d7-4d7012bae7f8"
      },
      "execution_count": null,
      "outputs": [
        {
          "output_type": "stream",
          "name": "stdout",
          "text": [
            "Enter the year number2060\n",
            "leap year\n"
          ]
        }
      ]
    },
    {
      "cell_type": "code",
      "source": [
        "name='veerendra'\n",
        "age='23'\n",
        "print(f\"Hello my {name}.your {age} old\")"
      ],
      "metadata": {
        "colab": {
          "base_uri": "https://localhost:8080/"
        },
        "id": "BJXe9zWCcJg3",
        "outputId": "0f638675-0ad9-4551-dca7-1860173bfb92"
      },
      "execution_count": null,
      "outputs": [
        {
          "output_type": "stream",
          "name": "stdout",
          "text": [
            "Hwllo my veerendra.your 23 old\n"
          ]
        }
      ]
    },
    {
      "cell_type": "code",
      "source": [
        "name='veerendra'\n",
        "age='23'\n",
        "print(\"Hello my {}.your {} old\" .format(name,age))"
      ],
      "metadata": {
        "colab": {
          "base_uri": "https://localhost:8080/"
        },
        "id": "DnoEu7DEdyEy",
        "outputId": "d3a49fb7-d9e9-46dd-b3c7-f5e45c0b99b6"
      },
      "execution_count": null,
      "outputs": [
        {
          "output_type": "stream",
          "name": "stdout",
          "text": [
            "Hello my veerendra.your 23 old\n"
          ]
        }
      ]
    },
    {
      "cell_type": "code",
      "source": [
        "n=int(input('Enter the  number'))\n",
        "if n%2==0 and n%3==0:\n",
        "  print('It is divisible by 2 and 3')\n",
        "else:\n",
        "  print('It is divisible by 2 and 3')"
      ],
      "metadata": {
        "colab": {
          "base_uri": "https://localhost:8080/"
        },
        "id": "2pEK-NZ7d4QW",
        "outputId": "f5b3ceb5-5487-47ac-e907-6538ec651c7d"
      },
      "execution_count": null,
      "outputs": [
        {
          "output_type": "stream",
          "name": "stdout",
          "text": [
            "Enter the  number7\n",
            "It is divisible by 2 and 3\n"
          ]
        }
      ]
    },
    {
      "cell_type": "code",
      "source": [
        "def two(num1,num2):\n",
        "  return max(num1,num2)\n",
        "print(two(2,13))"
      ],
      "metadata": {
        "colab": {
          "base_uri": "https://localhost:8080/"
        },
        "id": "xagsg0KTfuya",
        "outputId": "ff6e9b5d-0c5f-45e4-b363-0945455ed0dc"
      },
      "execution_count": null,
      "outputs": [
        {
          "output_type": "stream",
          "name": "stdout",
          "text": [
            "13\n"
          ]
        }
      ]
    },
    {
      "cell_type": "code",
      "source": [
        "colors = [\"red\", \"green\", \"blue\",\"blue\",\"yellow\",\"red\",\"purple\",\"red\" ,\"orange\", \"purple\", \"red\",\"black\", \"white\"]\n",
        "count=0\n",
        "for i in colors:\n",
        "  count+=i.count('red')\n",
        "print(count)"
      ],
      "metadata": {
        "colab": {
          "base_uri": "https://localhost:8080/"
        },
        "id": "wkZ-cy8agYVv",
        "outputId": "3ac76d21-4181-481e-b731-9d8ff5cac9b8"
      },
      "execution_count": null,
      "outputs": [
        {
          "output_type": "stream",
          "name": "stdout",
          "text": [
            "4\n"
          ]
        }
      ]
    },
    {
      "cell_type": "code",
      "source": [
        "colors = [\"red\", \"green\", \"blue\",\"blue\",\"yellow\",\"red\",\"purple\",\"red\" ,\"orange\", \"purple\", \"red\",\"black\", \"white\"]\n",
        "print(sorted(colors,reverse=True))"
      ],
      "metadata": {
        "colab": {
          "base_uri": "https://localhost:8080/"
        },
        "id": "ncNvO4E0g_W_",
        "outputId": "2fa9defd-8c7e-43f3-8ad9-4f117a34ca31"
      },
      "execution_count": null,
      "outputs": [
        {
          "output_type": "stream",
          "name": "stdout",
          "text": [
            "['yellow', 'white', 'red', 'red', 'red', 'red', 'purple', 'purple', 'orange', 'green', 'blue', 'blue', 'black']\n"
          ]
        }
      ]
    },
    {
      "cell_type": "code",
      "source": [
        "num=int(input('Enter the number'))\n",
        "print(pow(num,3))"
      ],
      "metadata": {
        "colab": {
          "base_uri": "https://localhost:8080/"
        },
        "id": "2_fcBSbDjry2",
        "outputId": "94a8eeac-d93d-4127-96c9-5c1da5f19a55"
      },
      "execution_count": null,
      "outputs": [
        {
          "output_type": "stream",
          "name": "stdout",
          "text": [
            "Enter the number3\n",
            "27\n"
          ]
        }
      ]
    },
    {
      "cell_type": "code",
      "source": [
        "for i in range(1,11):\n",
        "  square=pow(i,2)\n",
        "  cube=pow(i,3)\n",
        "print(square)\n",
        "print(cube)\n",
        "print(square+cube)"
      ],
      "metadata": {
        "colab": {
          "base_uri": "https://localhost:8080/"
        },
        "id": "MX8cQS1fkYGc",
        "outputId": "2164349d-8ff0-431d-98de-0a19af1fcb23"
      },
      "execution_count": null,
      "outputs": [
        {
          "output_type": "stream",
          "name": "stdout",
          "text": [
            "100\n",
            "1000\n",
            "1100\n"
          ]
        }
      ]
    },
    {
      "cell_type": "code",
      "source": [
        "for i in range(10,5):\n",
        "  print(i)"
      ],
      "metadata": {
        "id": "82LKpU7uljFA"
      },
      "execution_count": null,
      "outputs": []
    },
    {
      "cell_type": "code",
      "source": [
        "print(list(range(1,30,2)))"
      ],
      "metadata": {
        "colab": {
          "base_uri": "https://localhost:8080/",
          "height": 141
        },
        "id": "sRpOt9HYnIYO",
        "outputId": "e17ad755-99cd-4edd-c8f2-bcb331f6c5f7"
      },
      "execution_count": null,
      "outputs": [
        {
          "output_type": "error",
          "ename": "TypeError",
          "evalue": "'list' object is not callable",
          "traceback": [
            "\u001b[0;31m---------------------------------------------------------------------------\u001b[0m",
            "\u001b[0;31mTypeError\u001b[0m                                 Traceback (most recent call last)",
            "\u001b[0;32m<ipython-input-54-a867ec8c65ca>\u001b[0m in \u001b[0;36m<cell line: 1>\u001b[0;34m()\u001b[0m\n\u001b[0;32m----> 1\u001b[0;31m \u001b[0mprint\u001b[0m\u001b[0;34m(\u001b[0m\u001b[0mlist\u001b[0m\u001b[0;34m(\u001b[0m\u001b[0mrange\u001b[0m\u001b[0;34m(\u001b[0m\u001b[0;36m1\u001b[0m\u001b[0;34m,\u001b[0m\u001b[0;36m30\u001b[0m\u001b[0;34m,\u001b[0m\u001b[0;36m2\u001b[0m\u001b[0;34m)\u001b[0m\u001b[0;34m)\u001b[0m\u001b[0;34m)\u001b[0m\u001b[0;34m\u001b[0m\u001b[0;34m\u001b[0m\u001b[0m\n\u001b[0m",
            "\u001b[0;31mTypeError\u001b[0m: 'list' object is not callable"
          ]
        }
      ]
    },
    {
      "cell_type": "code",
      "source": [
        "a=int(input('enter the number'))\n",
        "b=int(input('enter the number'))\n",
        "a,b=b,a\n",
        "print(a)\n",
        "print(b)"
      ],
      "metadata": {
        "colab": {
          "base_uri": "https://localhost:8080/"
        },
        "id": "W8F5ZqymoGtT",
        "outputId": "5aa78ea4-4321-4c69-d1a2-bd3bd9d17aa4"
      },
      "execution_count": null,
      "outputs": [
        {
          "output_type": "stream",
          "name": "stdout",
          "text": [
            "enter the number10\n",
            "enter the number20\n",
            "20\n",
            "10\n"
          ]
        }
      ]
    },
    {
      "cell_type": "code",
      "source": [
        "from datetime import date\n",
        "def two_dates(date1,date2):\n",
        "  diff=date2-date1\n",
        "  return diff.date\n",
        "print(two_dates('19-12-2024','25-12-2024'))"
      ],
      "metadata": {
        "colab": {
          "base_uri": "https://localhost:8080/",
          "height": 297
        },
        "id": "I6epv1UsqHXO",
        "outputId": "9bfa86cd-3834-41fb-90a2-5b812cfe116c"
      },
      "execution_count": null,
      "outputs": [
        {
          "output_type": "error",
          "ename": "TypeError",
          "evalue": "unsupported operand type(s) for -: 'str' and 'str'",
          "traceback": [
            "\u001b[0;31m---------------------------------------------------------------------------\u001b[0m",
            "\u001b[0;31mTypeError\u001b[0m                                 Traceback (most recent call last)",
            "\u001b[0;32m<ipython-input-121-8260212bdf89>\u001b[0m in \u001b[0;36m<cell line: 5>\u001b[0;34m()\u001b[0m\n\u001b[1;32m      3\u001b[0m   \u001b[0mdiff\u001b[0m\u001b[0;34m=\u001b[0m\u001b[0mdate2\u001b[0m\u001b[0;34m-\u001b[0m\u001b[0mdate1\u001b[0m\u001b[0;34m\u001b[0m\u001b[0;34m\u001b[0m\u001b[0m\n\u001b[1;32m      4\u001b[0m   \u001b[0;32mreturn\u001b[0m \u001b[0mdiff\u001b[0m\u001b[0;34m.\u001b[0m\u001b[0mdate\u001b[0m\u001b[0;34m\u001b[0m\u001b[0;34m\u001b[0m\u001b[0m\n\u001b[0;32m----> 5\u001b[0;31m \u001b[0mprint\u001b[0m\u001b[0;34m(\u001b[0m\u001b[0mtwo_dates\u001b[0m\u001b[0;34m(\u001b[0m\u001b[0;34m'19-12-2024'\u001b[0m\u001b[0;34m,\u001b[0m\u001b[0;34m'25-12-2024'\u001b[0m\u001b[0;34m)\u001b[0m\u001b[0;34m)\u001b[0m\u001b[0;34m\u001b[0m\u001b[0;34m\u001b[0m\u001b[0m\n\u001b[0m",
            "\u001b[0;32m<ipython-input-121-8260212bdf89>\u001b[0m in \u001b[0;36mtwo_dates\u001b[0;34m(date1, date2)\u001b[0m\n\u001b[1;32m      1\u001b[0m \u001b[0;32mfrom\u001b[0m \u001b[0mdatetime\u001b[0m \u001b[0;32mimport\u001b[0m \u001b[0mdate\u001b[0m\u001b[0;34m\u001b[0m\u001b[0;34m\u001b[0m\u001b[0m\n\u001b[1;32m      2\u001b[0m \u001b[0;32mdef\u001b[0m \u001b[0mtwo_dates\u001b[0m\u001b[0;34m(\u001b[0m\u001b[0mdate1\u001b[0m\u001b[0;34m,\u001b[0m\u001b[0mdate2\u001b[0m\u001b[0;34m)\u001b[0m\u001b[0;34m:\u001b[0m\u001b[0;34m\u001b[0m\u001b[0;34m\u001b[0m\u001b[0m\n\u001b[0;32m----> 3\u001b[0;31m   \u001b[0mdiff\u001b[0m\u001b[0;34m=\u001b[0m\u001b[0mdate2\u001b[0m\u001b[0;34m-\u001b[0m\u001b[0mdate1\u001b[0m\u001b[0;34m\u001b[0m\u001b[0;34m\u001b[0m\u001b[0m\n\u001b[0m\u001b[1;32m      4\u001b[0m   \u001b[0;32mreturn\u001b[0m \u001b[0mdiff\u001b[0m\u001b[0;34m.\u001b[0m\u001b[0mdate\u001b[0m\u001b[0;34m\u001b[0m\u001b[0;34m\u001b[0m\u001b[0m\n\u001b[1;32m      5\u001b[0m \u001b[0mprint\u001b[0m\u001b[0;34m(\u001b[0m\u001b[0mtwo_dates\u001b[0m\u001b[0;34m(\u001b[0m\u001b[0;34m'19-12-2024'\u001b[0m\u001b[0;34m,\u001b[0m\u001b[0;34m'25-12-2024'\u001b[0m\u001b[0;34m)\u001b[0m\u001b[0;34m)\u001b[0m\u001b[0;34m\u001b[0m\u001b[0;34m\u001b[0m\u001b[0m\n",
            "\u001b[0;31mTypeError\u001b[0m: unsupported operand type(s) for -: 'str' and 'str'"
          ]
        }
      ]
    },
    {
      "cell_type": "code",
      "source": [
        "sentence = \"This is a Python string.\"\n",
        "word_list = sentence.split()\n",
        "print(word_list[::-1])"
      ],
      "metadata": {
        "colab": {
          "base_uri": "https://localhost:8080/"
        },
        "id": "60PGIt6VrnTT",
        "outputId": "2ea85b29-b15e-4d9d-fbd8-98919f0062b0"
      },
      "execution_count": null,
      "outputs": [
        {
          "output_type": "stream",
          "name": "stdout",
          "text": [
            "['string.', 'Python', 'a', 'is', 'This']\n"
          ]
        }
      ]
    },
    {
      "cell_type": "code",
      "source": [
        "from math import factorial\n",
        "num=factorial(20)\n",
        "print(num)"
      ],
      "metadata": {
        "colab": {
          "base_uri": "https://localhost:8080/"
        },
        "id": "7-rBkyYGsNO2",
        "outputId": "900c0337-31cd-4d30-f08c-eac7a9ffc0da"
      },
      "execution_count": null,
      "outputs": [
        {
          "output_type": "stream",
          "name": "stdout",
          "text": [
            "2432902008176640000\n"
          ]
        }
      ]
    },
    {
      "cell_type": "code",
      "source": [
        "from datetime import date\n",
        "def diff(date1,date2):\n",
        "  diff=date2-date1\n",
        "  return diff.days\n",
        "print(diff('19-12-2024','25-12-2024'))"
      ],
      "metadata": {
        "id": "3OO9JX2jsYEu",
        "colab": {
          "base_uri": "https://localhost:8080/",
          "height": 297
        },
        "outputId": "2a31ec73-dd62-4d59-9d41-c6a14e934f44"
      },
      "execution_count": null,
      "outputs": [
        {
          "output_type": "error",
          "ename": "TypeError",
          "evalue": "unsupported operand type(s) for -: 'str' and 'str'",
          "traceback": [
            "\u001b[0;31m---------------------------------------------------------------------------\u001b[0m",
            "\u001b[0;31mTypeError\u001b[0m                                 Traceback (most recent call last)",
            "\u001b[0;32m<ipython-input-2-4e6877d49e12>\u001b[0m in \u001b[0;36m<cell line: 5>\u001b[0;34m()\u001b[0m\n\u001b[1;32m      3\u001b[0m   \u001b[0mdiff\u001b[0m\u001b[0;34m=\u001b[0m\u001b[0mdate2\u001b[0m\u001b[0;34m-\u001b[0m\u001b[0mdate1\u001b[0m\u001b[0;34m\u001b[0m\u001b[0;34m\u001b[0m\u001b[0m\n\u001b[1;32m      4\u001b[0m   \u001b[0;32mreturn\u001b[0m \u001b[0mdiff\u001b[0m\u001b[0;34m.\u001b[0m\u001b[0mdays\u001b[0m\u001b[0;34m\u001b[0m\u001b[0;34m\u001b[0m\u001b[0m\n\u001b[0;32m----> 5\u001b[0;31m \u001b[0mprint\u001b[0m\u001b[0;34m(\u001b[0m\u001b[0mdiff\u001b[0m\u001b[0;34m(\u001b[0m\u001b[0;34m'19-12-2024'\u001b[0m\u001b[0;34m,\u001b[0m\u001b[0;34m'25-12-2024'\u001b[0m\u001b[0;34m)\u001b[0m\u001b[0;34m)\u001b[0m\u001b[0;34m\u001b[0m\u001b[0;34m\u001b[0m\u001b[0m\n\u001b[0m",
            "\u001b[0;32m<ipython-input-2-4e6877d49e12>\u001b[0m in \u001b[0;36mdiff\u001b[0;34m(date1, date2)\u001b[0m\n\u001b[1;32m      1\u001b[0m \u001b[0;32mfrom\u001b[0m \u001b[0mdatetime\u001b[0m \u001b[0;32mimport\u001b[0m \u001b[0mdate\u001b[0m\u001b[0;34m\u001b[0m\u001b[0;34m\u001b[0m\u001b[0m\n\u001b[1;32m      2\u001b[0m \u001b[0;32mdef\u001b[0m \u001b[0mdiff\u001b[0m\u001b[0;34m(\u001b[0m\u001b[0mdate1\u001b[0m\u001b[0;34m,\u001b[0m\u001b[0mdate2\u001b[0m\u001b[0;34m)\u001b[0m\u001b[0;34m:\u001b[0m\u001b[0;34m\u001b[0m\u001b[0;34m\u001b[0m\u001b[0m\n\u001b[0;32m----> 3\u001b[0;31m   \u001b[0mdiff\u001b[0m\u001b[0;34m=\u001b[0m\u001b[0mdate2\u001b[0m\u001b[0;34m-\u001b[0m\u001b[0mdate1\u001b[0m\u001b[0;34m\u001b[0m\u001b[0;34m\u001b[0m\u001b[0m\n\u001b[0m\u001b[1;32m      4\u001b[0m   \u001b[0;32mreturn\u001b[0m \u001b[0mdiff\u001b[0m\u001b[0;34m.\u001b[0m\u001b[0mdays\u001b[0m\u001b[0;34m\u001b[0m\u001b[0;34m\u001b[0m\u001b[0m\n\u001b[1;32m      5\u001b[0m \u001b[0mprint\u001b[0m\u001b[0;34m(\u001b[0m\u001b[0mdiff\u001b[0m\u001b[0;34m(\u001b[0m\u001b[0;34m'19-12-2024'\u001b[0m\u001b[0;34m,\u001b[0m\u001b[0;34m'25-12-2024'\u001b[0m\u001b[0;34m)\u001b[0m\u001b[0;34m)\u001b[0m\u001b[0;34m\u001b[0m\u001b[0;34m\u001b[0m\u001b[0m\n",
            "\u001b[0;31mTypeError\u001b[0m: unsupported operand type(s) for -: 'str' and 'str'"
          ]
        }
      ]
    },
    {
      "cell_type": "code",
      "source": [
        "from datetime import datetime, timedelta, date\n",
        "future_date = now + timedelta(days=7)\n",
        "print(future_date)"
      ],
      "metadata": {
        "colab": {
          "base_uri": "https://localhost:8080/",
          "height": 176
        },
        "id": "QXbZf5_mPNxO",
        "outputId": "3d990417-b41f-4e83-f50b-454800852402"
      },
      "execution_count": null,
      "outputs": [
        {
          "output_type": "error",
          "ename": "NameError",
          "evalue": "name 'now' is not defined",
          "traceback": [
            "\u001b[0;31m---------------------------------------------------------------------------\u001b[0m",
            "\u001b[0;31mNameError\u001b[0m                                 Traceback (most recent call last)",
            "\u001b[0;32m<ipython-input-4-60f749cb32b9>\u001b[0m in \u001b[0;36m<cell line: 2>\u001b[0;34m()\u001b[0m\n\u001b[1;32m      1\u001b[0m \u001b[0;32mfrom\u001b[0m \u001b[0mdatetime\u001b[0m \u001b[0;32mimport\u001b[0m \u001b[0mdatetime\u001b[0m\u001b[0;34m,\u001b[0m \u001b[0mtimedelta\u001b[0m\u001b[0;34m,\u001b[0m \u001b[0mdate\u001b[0m\u001b[0;34m\u001b[0m\u001b[0;34m\u001b[0m\u001b[0m\n\u001b[0;32m----> 2\u001b[0;31m \u001b[0mfuture_date\u001b[0m \u001b[0;34m=\u001b[0m \u001b[0mnow\u001b[0m \u001b[0;34m+\u001b[0m \u001b[0mtimedelta\u001b[0m\u001b[0;34m(\u001b[0m\u001b[0mdays\u001b[0m\u001b[0;34m=\u001b[0m\u001b[0;36m7\u001b[0m\u001b[0;34m)\u001b[0m\u001b[0;34m\u001b[0m\u001b[0;34m\u001b[0m\u001b[0m\n\u001b[0m\u001b[1;32m      3\u001b[0m \u001b[0mprint\u001b[0m\u001b[0;34m(\u001b[0m\u001b[0mfuture_date\u001b[0m\u001b[0;34m)\u001b[0m\u001b[0;34m\u001b[0m\u001b[0;34m\u001b[0m\u001b[0m\n",
            "\u001b[0;31mNameError\u001b[0m: name 'now' is not defined"
          ]
        }
      ]
    },
    {
      "cell_type": "code",
      "source": [
        "from datetime import datetime"
      ],
      "metadata": {
        "id": "rkmJECVloMfs"
      },
      "execution_count": null,
      "outputs": []
    },
    {
      "cell_type": "code",
      "source": [
        "today=datetime.now().strftime(\"%Y-%B-%A\")\n",
        "print(today)"
      ],
      "metadata": {
        "colab": {
          "base_uri": "https://localhost:8080/"
        },
        "id": "U_H8a8QzpEfk",
        "outputId": "f9223b44-c79f-456a-e8de-244767113da4"
      },
      "execution_count": null,
      "outputs": [
        {
          "output_type": "stream",
          "name": "stdout",
          "text": [
            "2024-December-Saturday\n"
          ]
        }
      ]
    },
    {
      "cell_type": "code",
      "source": [
        "def percen(num1,num2):\n",
        "  return(num1/num2)*100\n",
        "print(percen(100,200))"
      ],
      "metadata": {
        "colab": {
          "base_uri": "https://localhost:8080/"
        },
        "id": "ElOxB4wiqjIQ",
        "outputId": "abe90adb-3f57-43e5-b1e9-636e9e965e85"
      },
      "execution_count": null,
      "outputs": [
        {
          "output_type": "stream",
          "name": "stdout",
          "text": [
            "50.0\n"
          ]
        }
      ]
    },
    {
      "cell_type": "code",
      "source": [
        "def aver(num1,num2):\n",
        "  return(num1+num2)/2\n",
        "print(aver(60,60))"
      ],
      "metadata": {
        "colab": {
          "base_uri": "https://localhost:8080/"
        },
        "id": "FV5fzXRdsGjO",
        "outputId": "9d0eca03-3574-494f-88b5-2699434b185d"
      },
      "execution_count": null,
      "outputs": [
        {
          "output_type": "stream",
          "name": "stdout",
          "text": [
            "60.0\n"
          ]
        }
      ]
    },
    {
      "cell_type": "code",
      "source": [
        "first=input('Enter the first name')\n",
        "last=input('Enter the last name')\n",
        "print(first+last)"
      ],
      "metadata": {
        "colab": {
          "base_uri": "https://localhost:8080/"
        },
        "id": "RnsM0nAUsuyU",
        "outputId": "d7e0e10d-9c6e-413e-a122-9fa6e741c51b"
      },
      "execution_count": null,
      "outputs": [
        {
          "output_type": "stream",
          "name": "stdout",
          "text": [
            "Enter the first nameveerendra\n",
            "Enter the last nameAmaravathi\n",
            "veerendraAmaravathi\n"
          ]
        }
      ]
    },
    {
      "cell_type": "code",
      "source": [
        "Name='Veerendra'\n",
        "count=\" \"\n",
        "for i in Name:\n",
        "  count+=str(i)\n",
        "  print(count)"
      ],
      "metadata": {
        "colab": {
          "base_uri": "https://localhost:8080/"
        },
        "id": "QTRea8RdtJlt",
        "outputId": "03778621-1a38-47c4-a094-a802a6745050"
      },
      "execution_count": null,
      "outputs": [
        {
          "output_type": "stream",
          "name": "stdout",
          "text": [
            " V\n",
            " Ve\n",
            " Vee\n",
            " Veer\n",
            " Veere\n",
            " Veeren\n",
            " Veerend\n",
            " Veerendr\n",
            " Veerendra\n"
          ]
        }
      ]
    },
    {
      "cell_type": "code",
      "source": [
        "A = {3,2,4,5,6,7,8}\n",
        "B = {4,12,5,1,6,8}\n",
        "uni=A.union(B)\n",
        "print(uni)"
      ],
      "metadata": {
        "colab": {
          "base_uri": "https://localhost:8080/"
        },
        "id": "owGlXZSqtlLG",
        "outputId": "13a62a23-26de-488c-9ac2-74c8ce9fe259"
      },
      "execution_count": null,
      "outputs": [
        {
          "output_type": "stream",
          "name": "stdout",
          "text": [
            "{1, 2, 3, 4, 5, 6, 7, 8, 12}\n"
          ]
        }
      ]
    },
    {
      "cell_type": "code",
      "source": [
        "GB=int(input('Enter the gb'))\n",
        "byte=GB*1000000000\n",
        "print(byte)"
      ],
      "metadata": {
        "colab": {
          "base_uri": "https://localhost:8080/"
        },
        "id": "bEIFodzXucXA",
        "outputId": "64358c91-7343-43cc-e640-8c4b49ddb24d"
      },
      "execution_count": null,
      "outputs": [
        {
          "output_type": "stream",
          "name": "stdout",
          "text": [
            "Enter the gb5\n",
            "5000000000\n"
          ]
        }
      ]
    },
    {
      "cell_type": "code",
      "source": [
        "def high(lst):\n",
        "  return max(lst)\n",
        "print(high([31,22,33,544,5,6,78,82,29,103]))"
      ],
      "metadata": {
        "colab": {
          "base_uri": "https://localhost:8080/"
        },
        "id": "A-3C26P_u3uo",
        "outputId": "0842485a-ef46-4b3d-bd22-1bc8c831a9b6"
      },
      "execution_count": null,
      "outputs": [
        {
          "output_type": "stream",
          "name": "stdout",
          "text": [
            "544\n"
          ]
        }
      ]
    },
    {
      "cell_type": "code",
      "source": [
        "def per(s):\n",
        "  square=s*s\n",
        "  perimeter=s+s+s+s\n",
        "  return square,perimeter\n",
        "print(per(5))"
      ],
      "metadata": {
        "id": "BWcTndVku8FF",
        "colab": {
          "base_uri": "https://localhost:8080/"
        },
        "outputId": "836b0c07-b5be-46ca-da9b-7d819c6b86d4"
      },
      "execution_count": null,
      "outputs": [
        {
          "output_type": "stream",
          "name": "stdout",
          "text": [
            "(25, 20)\n"
          ]
        }
      ]
    },
    {
      "cell_type": "code",
      "source": [
        "import random\n",
        "lst=[\n",
        "    \"red\",\n",
        "    \"green\",\n",
        "    \"blue\",\n",
        "    \"yellow\",\n",
        "    \"orange\",\n",
        "    \"purple\",\n",
        "    \"black\",\n",
        "    \"white\",\n",
        "    \"pink\",\n",
        "    \"brown\",\n",
        "    \"gray\",\n",
        "    \"cyan\",\n",
        "    \"magenta\",\n",
        "    \"gold\",\n",
        "    \"silver\",\n",
        "    \"maroon\",\n",
        "    \"olive\",\n",
        "    \"lime\",\n",
        "    \"teal\",\n",
        "    \"navy\",\n",
        "]\n",
        "random.shuffle(lst)\n",
        "print(lst)"
      ],
      "metadata": {
        "id": "W3fFhtE24cEt",
        "colab": {
          "base_uri": "https://localhost:8080/"
        },
        "outputId": "37c7d161-6954-49cc-f62f-a2668b9567a6"
      },
      "execution_count": null,
      "outputs": [
        {
          "output_type": "stream",
          "name": "stdout",
          "text": [
            "['gold', 'green', 'orange', 'blue', 'teal', 'lime', 'red', 'purple', 'gray', 'navy', 'brown', 'yellow', 'maroon', 'silver', 'white', 'black', 'olive', 'cyan', 'pink', 'magenta']\n"
          ]
        }
      ]
    },
    {
      "cell_type": "code",
      "source": [
        "A = {1,12,2,6,7,8}\n",
        "B = {15,0,1,3,6}\n",
        "diff=A.difference(B)\n",
        "print(diff)"
      ],
      "metadata": {
        "colab": {
          "base_uri": "https://localhost:8080/"
        },
        "id": "SO0gZHkJ8VBf",
        "outputId": "251a9207-518c-4c85-9c1b-4758ad5169fe"
      },
      "execution_count": null,
      "outputs": [
        {
          "output_type": "stream",
          "name": "stdout",
          "text": [
            "{8, 2, 12, 7}\n"
          ]
        }
      ]
    },
    {
      "cell_type": "code",
      "source": [
        "name='Veerendra'\n",
        "print(name[1::2])"
      ],
      "metadata": {
        "colab": {
          "base_uri": "https://localhost:8080/"
        },
        "id": "JyECebWp_QhO",
        "outputId": "73d1098f-8d33-4c6a-9bb4-1682916ed138"
      },
      "execution_count": null,
      "outputs": [
        {
          "output_type": "stream",
          "name": "stdout",
          "text": [
            "ernr\n"
          ]
        }
      ]
    },
    {
      "cell_type": "code",
      "source": [
        "lst=[]\n",
        "for i in range(10,100):\n",
        "  if i%5==0 and i%3==0:\n",
        "    lst.append(i)\n",
        "print(lst)\n"
      ],
      "metadata": {
        "id": "IORvaBNC_cxI",
        "colab": {
          "base_uri": "https://localhost:8080/"
        },
        "outputId": "d1f6e3f6-dde7-4ac8-ab5d-17c8bf04d538"
      },
      "execution_count": null,
      "outputs": [
        {
          "output_type": "stream",
          "name": "stdout",
          "text": [
            "[15, 30, 45, 60, 75, 90]\n"
          ]
        }
      ]
    },
    {
      "cell_type": "code",
      "source": [
        "names = [\"Brian\", \"Ethan\", \"Dylan\", \"Megan\", \"Lauren\", \"Jason\",\"veer\",\"surend\"]\n",
        "for i in names:\n",
        "  if i.endswith('n'):\n",
        "    print(i)\n"
      ],
      "metadata": {
        "colab": {
          "base_uri": "https://localhost:8080/"
        },
        "id": "2a2OvkRDlJdU",
        "outputId": "d0b5417c-d018-42e4-a43f-f10c2a7af8bc"
      },
      "execution_count": null,
      "outputs": [
        {
          "output_type": "stream",
          "name": "stdout",
          "text": [
            "Brian\n",
            "Ethan\n",
            "Dylan\n",
            "Megan\n",
            "Lauren\n",
            "Jason\n"
          ]
        }
      ]
    },
    {
      "cell_type": "code",
      "source": [
        "name=input('Enter the string')\n",
        "if len(name)==10:\n",
        "  print('Valid')\n",
        "else:\n",
        "  print('Not valid')"
      ],
      "metadata": {
        "colab": {
          "base_uri": "https://localhost:8080/"
        },
        "id": "0BvBx8Ximu-c",
        "outputId": "3e0324cc-13e0-4fac-a0ee-bbe7c2c13c0f"
      },
      "execution_count": null,
      "outputs": [
        {
          "output_type": "stream",
          "name": "stdout",
          "text": [
            "Enter the stringveerendra\n",
            "Not valid\n"
          ]
        }
      ]
    },
    {
      "cell_type": "code",
      "source": [
        "a=print(list(range(1,20,2)))\n",
        "b=print(list(range(0,20,2)))\n",
        "print(sum(a))"
      ],
      "metadata": {
        "colab": {
          "base_uri": "https://localhost:8080/",
          "height": 211
        },
        "id": "blkcdKB2oQFN",
        "outputId": "82b79181-13ff-4d28-fdbf-3e71f19e2d1d"
      },
      "execution_count": null,
      "outputs": [
        {
          "output_type": "stream",
          "name": "stdout",
          "text": [
            "[1, 3, 5, 7, 9, 11, 13, 15, 17, 19]\n",
            "[0, 2, 4, 6, 8, 10, 12, 14, 16, 18]\n"
          ]
        },
        {
          "output_type": "error",
          "ename": "TypeError",
          "evalue": "'NoneType' object is not iterable",
          "traceback": [
            "\u001b[0;31m---------------------------------------------------------------------------\u001b[0m",
            "\u001b[0;31mTypeError\u001b[0m                                 Traceback (most recent call last)",
            "\u001b[0;32m<ipython-input-17-96f399a4c334>\u001b[0m in \u001b[0;36m<cell line: 3>\u001b[0;34m()\u001b[0m\n\u001b[1;32m      1\u001b[0m \u001b[0ma\u001b[0m\u001b[0;34m=\u001b[0m\u001b[0mprint\u001b[0m\u001b[0;34m(\u001b[0m\u001b[0mlist\u001b[0m\u001b[0;34m(\u001b[0m\u001b[0mrange\u001b[0m\u001b[0;34m(\u001b[0m\u001b[0;36m1\u001b[0m\u001b[0;34m,\u001b[0m\u001b[0;36m20\u001b[0m\u001b[0;34m,\u001b[0m\u001b[0;36m2\u001b[0m\u001b[0;34m)\u001b[0m\u001b[0;34m)\u001b[0m\u001b[0;34m)\u001b[0m\u001b[0;34m\u001b[0m\u001b[0;34m\u001b[0m\u001b[0m\n\u001b[1;32m      2\u001b[0m \u001b[0mb\u001b[0m\u001b[0;34m=\u001b[0m\u001b[0mprint\u001b[0m\u001b[0;34m(\u001b[0m\u001b[0mlist\u001b[0m\u001b[0;34m(\u001b[0m\u001b[0mrange\u001b[0m\u001b[0;34m(\u001b[0m\u001b[0;36m0\u001b[0m\u001b[0;34m,\u001b[0m\u001b[0;36m20\u001b[0m\u001b[0;34m,\u001b[0m\u001b[0;36m2\u001b[0m\u001b[0;34m)\u001b[0m\u001b[0;34m)\u001b[0m\u001b[0;34m)\u001b[0m\u001b[0;34m\u001b[0m\u001b[0;34m\u001b[0m\u001b[0m\n\u001b[0;32m----> 3\u001b[0;31m \u001b[0mprint\u001b[0m\u001b[0;34m(\u001b[0m\u001b[0msum\u001b[0m\u001b[0;34m(\u001b[0m\u001b[0ma\u001b[0m\u001b[0;34m)\u001b[0m\u001b[0;34m)\u001b[0m\u001b[0;34m\u001b[0m\u001b[0;34m\u001b[0m\u001b[0m\n\u001b[0m",
            "\u001b[0;31mTypeError\u001b[0m: 'NoneType' object is not iterable"
          ]
        }
      ]
    },
    {
      "cell_type": "code",
      "source": [
        "lst=[]\n",
        "for i in range(1,100):\n",
        "  if i%2==0:\n",
        "    lst+=i\n",
        "print(lst)"
      ],
      "metadata": {
        "colab": {
          "base_uri": "https://localhost:8080/",
          "height": 193
        },
        "id": "7GF2CGwZrP-T",
        "outputId": "8111c930-1de4-4f65-c52c-9cdec18aaddf"
      },
      "execution_count": null,
      "outputs": [
        {
          "output_type": "error",
          "ename": "TypeError",
          "evalue": "'int' object is not iterable",
          "traceback": [
            "\u001b[0;31m---------------------------------------------------------------------------\u001b[0m",
            "\u001b[0;31mTypeError\u001b[0m                                 Traceback (most recent call last)",
            "\u001b[0;32m<ipython-input-20-9b5fc5bbc76c>\u001b[0m in \u001b[0;36m<cell line: 2>\u001b[0;34m()\u001b[0m\n\u001b[1;32m      2\u001b[0m \u001b[0;32mfor\u001b[0m \u001b[0mi\u001b[0m \u001b[0;32min\u001b[0m \u001b[0mrange\u001b[0m\u001b[0;34m(\u001b[0m\u001b[0;36m1\u001b[0m\u001b[0;34m,\u001b[0m\u001b[0;36m100\u001b[0m\u001b[0;34m)\u001b[0m\u001b[0;34m:\u001b[0m\u001b[0;34m\u001b[0m\u001b[0;34m\u001b[0m\u001b[0m\n\u001b[1;32m      3\u001b[0m   \u001b[0;32mif\u001b[0m \u001b[0mi\u001b[0m\u001b[0;34m%\u001b[0m\u001b[0;36m2\u001b[0m\u001b[0;34m==\u001b[0m\u001b[0;36m0\u001b[0m\u001b[0;34m:\u001b[0m\u001b[0;34m\u001b[0m\u001b[0;34m\u001b[0m\u001b[0m\n\u001b[0;32m----> 4\u001b[0;31m     \u001b[0mlst\u001b[0m\u001b[0;34m+=\u001b[0m\u001b[0mi\u001b[0m\u001b[0;34m\u001b[0m\u001b[0;34m\u001b[0m\u001b[0m\n\u001b[0m\u001b[1;32m      5\u001b[0m \u001b[0mprint\u001b[0m\u001b[0;34m(\u001b[0m\u001b[0mlst\u001b[0m\u001b[0;34m)\u001b[0m\u001b[0;34m\u001b[0m\u001b[0;34m\u001b[0m\u001b[0m\n",
            "\u001b[0;31mTypeError\u001b[0m: 'int' object is not iterable"
          ]
        }
      ]
    },
    {
      "cell_type": "code",
      "source": [
        "name=input('Enter the file name with extension')\n",
        "if '.' in name:\n",
        "  file_extensio=name.split('.')[-1]\n",
        "  print('File extensions')\n",
        "else:\n",
        "  print('Invalid file')"
      ],
      "metadata": {
        "colab": {
          "base_uri": "https://localhost:8080/"
        },
        "id": "WqL5o-DXvdQ_",
        "outputId": "c5845266-c442-4c22-86ea-e2f8abd1d3a4"
      },
      "execution_count": null,
      "outputs": [
        {
          "output_type": "stream",
          "name": "stdout",
          "text": [
            "Enter the file name with extensionveerendraaa\n",
            "Invalid file\n"
          ]
        }
      ]
    },
    {
      "cell_type": "code",
      "source": [
        "G = 6.674 * 10**-11\n",
        "m1=int(input('Enter the first object in kg'))\n",
        "m2=int(input('Enter the second object in kg'))\n",
        "r=int(input('Enter the distance in meter'))\n",
        "force=(G*m1*m2)/(r**2)\n",
        "print(force)"
      ],
      "metadata": {
        "colab": {
          "base_uri": "https://localhost:8080/"
        },
        "id": "Dr4LQl3kx9tb",
        "outputId": "0bd7c88b-b9f1-498c-a904-4c9b39b267b8"
      },
      "execution_count": null,
      "outputs": [
        {
          "output_type": "stream",
          "name": "stdout",
          "text": [
            "Enter the first object in kg5\n",
            "Enter the second object in kg10\n",
            "Enter the distance in meter2\n",
            "8.3425e-10\n"
          ]
        }
      ]
    },
    {
      "cell_type": "code",
      "source": [
        "numbers = [7, 42, 32, 14, 5, 61, 7, 8, 92, 10]\n",
        "print(max(numbers))\n",
        "print(min(numbers))"
      ],
      "metadata": {
        "colab": {
          "base_uri": "https://localhost:8080/"
        },
        "id": "meU3TgpQzAJz",
        "outputId": "8cf4bbee-ddab-4765-9c2c-a35f961e18b7"
      },
      "execution_count": null,
      "outputs": [
        {
          "output_type": "stream",
          "name": "stdout",
          "text": [
            "92\n",
            "5\n"
          ]
        }
      ]
    },
    {
      "cell_type": "code",
      "source": [
        "numbers = [7, 42, 32, 14, 5, 61, 7, 8, 92, 10]\n",
        "new_lst=[numbers[1],numbers[2],numbers[3],numbers[4],numbers[5],numbers[6],numbers[7]]\n",
        "print(new_lst)"
      ],
      "metadata": {
        "colab": {
          "base_uri": "https://localhost:8080/"
        },
        "id": "He3c47Vp3Z2x",
        "outputId": "43dff3ac-ff1a-4bdd-fc37-c7e7cdbd724b"
      },
      "execution_count": null,
      "outputs": [
        {
          "output_type": "stream",
          "name": "stdout",
          "text": [
            "[42, 32, 14, 5, 61, 7, 8]\n"
          ]
        }
      ]
    },
    {
      "cell_type": "code",
      "source": [
        "milli=int(input('Enter the millisecond'))\n",
        "meter=milli/1000\n",
        "kilo=meter/1000\n",
        "print(meter)\n",
        "print(kilo)"
      ],
      "metadata": {
        "colab": {
          "base_uri": "https://localhost:8080/"
        },
        "id": "iBJexFDI4Kmc",
        "outputId": "a0e95890-3091-4470-99f1-30a8bb1d114b"
      },
      "execution_count": null,
      "outputs": [
        {
          "output_type": "stream",
          "name": "stdout",
          "text": [
            "Enter the millisecond50000\n",
            "50.0\n",
            "0.05\n"
          ]
        }
      ]
    },
    {
      "cell_type": "markdown",
      "source": [
        "OOPS\n"
      ],
      "metadata": {
        "id": "okVBmIecHZGz"
      }
    },
    {
      "cell_type": "code",
      "source": [
        "Class Animals:\n",
        "def __init__(self,name,species):\n",
        "  self.name=name\n",
        "  self.species=species\n",
        " def speak(self):\n"
      ],
      "metadata": {
        "colab": {
          "base_uri": "https://localhost:8080/",
          "height": 106
        },
        "id": "3xxlcMlKHWsp",
        "outputId": "9bb0f6f4-fcda-4903-d0f2-77e8528eac07"
      },
      "execution_count": null,
      "outputs": [
        {
          "output_type": "error",
          "ename": "SyntaxError",
          "evalue": "invalid syntax (<ipython-input-2-28f6d37441a2>, line 1)",
          "traceback": [
            "\u001b[0;36m  File \u001b[0;32m\"<ipython-input-2-28f6d37441a2>\"\u001b[0;36m, line \u001b[0;32m1\u001b[0m\n\u001b[0;31m    Class Animals:\u001b[0m\n\u001b[0m          ^\u001b[0m\n\u001b[0;31mSyntaxError\u001b[0m\u001b[0;31m:\u001b[0m invalid syntax\n"
          ]
        }
      ]
    },
    {
      "cell_type": "code",
      "source": [
        "class rectangle:\n",
        "  def __init__(self,lenght,width):\n",
        "  self.lenght=length\n",
        "  self.width=width\n",
        "def perimeter(self):\n",
        "  return 2*(self.length+self.width)\n",
        "def area(self):\n",
        "  return self.lenght*self.width"
      ],
      "metadata": {
        "id": "qf6Et2GeHkrJ",
        "colab": {
          "base_uri": "https://localhost:8080/",
          "height": 106
        },
        "outputId": "337a0a1a-954e-420f-98a9-c38ba1eab40c"
      },
      "execution_count": null,
      "outputs": [
        {
          "output_type": "error",
          "ename": "IndentationError",
          "evalue": "expected an indented block after class definition on line 1 (<ipython-input-5-ba48e5c9584f>, line 2)",
          "traceback": [
            "\u001b[0;36m  File \u001b[0;32m\"<ipython-input-5-ba48e5c9584f>\"\u001b[0;36m, line \u001b[0;32m2\u001b[0m\n\u001b[0;31m    def __init__(self,lenght,width):\u001b[0m\n\u001b[0m    ^\u001b[0m\n\u001b[0;31mIndentationError\u001b[0m\u001b[0;31m:\u001b[0m expected an indented block after class definition on line 1\n"
          ]
        }
      ]
    },
    {
      "cell_type": "code",
      "source": [
        "lst=[1, 2, 3, 4, 5, 6, 7, 8, 9,9,9,9,6,6,6,4,6,8,3,5,2,1,10]\n",
        "count=0\n",
        "for i in lst:\n",
        "  if i in count:\n",
        "    count[i]+=1\n",
        "  else:\n",
        "    count[i]=1\n",
        "print(count)"
      ],
      "metadata": {
        "id": "49yZQsXBaKYo",
        "colab": {
          "base_uri": "https://localhost:8080/",
          "height": 211
        },
        "outputId": "38efd777-f8e7-4d85-81ee-5ac219275850"
      },
      "execution_count": null,
      "outputs": [
        {
          "output_type": "error",
          "ename": "TypeError",
          "evalue": "argument of type 'int' is not iterable",
          "traceback": [
            "\u001b[0;31m---------------------------------------------------------------------------\u001b[0m",
            "\u001b[0;31mTypeError\u001b[0m                                 Traceback (most recent call last)",
            "\u001b[0;32m<ipython-input-14-3aff7c8255eb>\u001b[0m in \u001b[0;36m<cell line: 3>\u001b[0;34m()\u001b[0m\n\u001b[1;32m      2\u001b[0m \u001b[0mcount\u001b[0m\u001b[0;34m=\u001b[0m\u001b[0;36m0\u001b[0m\u001b[0;34m\u001b[0m\u001b[0;34m\u001b[0m\u001b[0m\n\u001b[1;32m      3\u001b[0m \u001b[0;32mfor\u001b[0m \u001b[0mi\u001b[0m \u001b[0;32min\u001b[0m \u001b[0mlst\u001b[0m\u001b[0;34m:\u001b[0m\u001b[0;34m\u001b[0m\u001b[0;34m\u001b[0m\u001b[0m\n\u001b[0;32m----> 4\u001b[0;31m   \u001b[0;32mif\u001b[0m \u001b[0mi\u001b[0m \u001b[0;32min\u001b[0m \u001b[0mcount\u001b[0m\u001b[0;34m:\u001b[0m\u001b[0;34m\u001b[0m\u001b[0;34m\u001b[0m\u001b[0m\n\u001b[0m\u001b[1;32m      5\u001b[0m     \u001b[0mcount\u001b[0m\u001b[0;34m[\u001b[0m\u001b[0mi\u001b[0m\u001b[0;34m]\u001b[0m\u001b[0;34m+=\u001b[0m\u001b[0;36m1\u001b[0m\u001b[0;34m\u001b[0m\u001b[0;34m\u001b[0m\u001b[0m\n\u001b[1;32m      6\u001b[0m   \u001b[0;32melse\u001b[0m\u001b[0;34m:\u001b[0m\u001b[0;34m\u001b[0m\u001b[0;34m\u001b[0m\u001b[0m\n",
            "\u001b[0;31mTypeError\u001b[0m: argument of type 'int' is not iterable"
          ]
        }
      ]
    },
    {
      "cell_type": "code",
      "source": [
        "class Student():\n",
        "  def __init_(self,name,age,grade):\n",
        "    self.name=name\n",
        "    self.age=age\n",
        "    self.grade=grade\n",
        "  def display(self):\n",
        "    print(f\"Name:{self.name}\")\n",
        "    print(f\"Age:{self.age}\")\n",
        "    print(f\"Grade:{self.grade}\")\n",
        "details=Student(\"Amarava\",'23','A')\n",
        "details.display()"
      ],
      "metadata": {
        "colab": {
          "base_uri": "https://localhost:8080/",
          "height": 193
        },
        "id": "rLcVEEeyg8-W",
        "outputId": "54147b74-2337-42a3-be85-080427563010"
      },
      "execution_count": null,
      "outputs": [
        {
          "output_type": "error",
          "ename": "TypeError",
          "evalue": "Student() takes no arguments",
          "traceback": [
            "\u001b[0;31m---------------------------------------------------------------------------\u001b[0m",
            "\u001b[0;31mTypeError\u001b[0m                                 Traceback (most recent call last)",
            "\u001b[0;32m<ipython-input-10-492d7d5d8841>\u001b[0m in \u001b[0;36m<cell line: 10>\u001b[0;34m()\u001b[0m\n\u001b[1;32m      8\u001b[0m     \u001b[0mprint\u001b[0m\u001b[0;34m(\u001b[0m\u001b[0;34mf\"Age:{self.age}\"\u001b[0m\u001b[0;34m)\u001b[0m\u001b[0;34m\u001b[0m\u001b[0;34m\u001b[0m\u001b[0m\n\u001b[1;32m      9\u001b[0m     \u001b[0mprint\u001b[0m\u001b[0;34m(\u001b[0m\u001b[0;34mf\"Grade:{self.grade}\"\u001b[0m\u001b[0;34m)\u001b[0m\u001b[0;34m\u001b[0m\u001b[0;34m\u001b[0m\u001b[0m\n\u001b[0;32m---> 10\u001b[0;31m \u001b[0mdetails\u001b[0m\u001b[0;34m=\u001b[0m\u001b[0mStudent\u001b[0m\u001b[0;34m(\u001b[0m\u001b[0;34m\"Amarava\"\u001b[0m\u001b[0;34m,\u001b[0m\u001b[0;34m'23'\u001b[0m\u001b[0;34m,\u001b[0m\u001b[0;34m'A'\u001b[0m\u001b[0;34m)\u001b[0m\u001b[0;34m\u001b[0m\u001b[0;34m\u001b[0m\u001b[0m\n\u001b[0m\u001b[1;32m     11\u001b[0m \u001b[0mdetails\u001b[0m\u001b[0;34m.\u001b[0m\u001b[0mdisplay\u001b[0m\u001b[0;34m(\u001b[0m\u001b[0;34m)\u001b[0m\u001b[0;34m\u001b[0m\u001b[0;34m\u001b[0m\u001b[0m\n",
            "\u001b[0;31mTypeError\u001b[0m: Student() takes no arguments"
          ]
        }
      ]
    },
    {
      "cell_type": "code",
      "source": [
        "def square(num):\n",
        "  prev=pow(num-1,2)\n",
        "  next=pow(num+1,2)\n",
        "  return prev,next\n",
        "print(square(5))"
      ],
      "metadata": {
        "colab": {
          "base_uri": "https://localhost:8080/"
        },
        "id": "Z8hhD5GzjffQ",
        "outputId": "1ca2f8f4-4ddf-4496-ee56-02a68ade4b49"
      },
      "execution_count": null,
      "outputs": [
        {
          "output_type": "stream",
          "name": "stdout",
          "text": [
            "(16, 36)\n"
          ]
        }
      ]
    },
    {
      "cell_type": "code",
      "source": [
        "lst=[1, 2, 3,[4, 5, 6, 7, 8, 9,2,9,9,5,9],6,6,6,4,6,8,3,5,2,1,10]\n",
        "new_lst= lst[3][0:11]\n",
        "count=new_lst.count(5)\n",
        "print(new_lst)\n",
        "print(count)"
      ],
      "metadata": {
        "colab": {
          "base_uri": "https://localhost:8080/"
        },
        "id": "d8qSDPy5k8Hs",
        "outputId": "94ff2d36-6d4c-4a54-ffeb-8ae1203f7aa1"
      },
      "execution_count": null,
      "outputs": [
        {
          "output_type": "stream",
          "name": "stdout",
          "text": [
            "[4, 5, 6, 7, 8, 9, 2, 9, 9, 5, 9]\n",
            "2\n"
          ]
        }
      ]
    },
    {
      "cell_type": "code",
      "source": [
        "word=input('ENter the word')\n",
        "print(word.swapcase())"
      ],
      "metadata": {
        "colab": {
          "base_uri": "https://localhost:8080/"
        },
        "id": "2UjSgHZkmesd",
        "outputId": "371440f1-3793-4530-8b34-0a6a2025435c"
      },
      "execution_count": null,
      "outputs": [
        {
          "output_type": "stream",
          "name": "stdout",
          "text": [
            "ENter the wordVeernedrA\n",
            "vEERNEDRa\n"
          ]
        }
      ]
    },
    {
      "cell_type": "code",
      "source": [
        "lst=[1, 2, 3,[4, 5, 6, 7, 8, 9,2,9,9,5,9],6,6,6,4,6,8,3,5,2,1,10]\n",
        "new_lst= lst[3][::]\n",
        "for i in new_lst:\n",
        "  print(i)"
      ],
      "metadata": {
        "colab": {
          "base_uri": "https://localhost:8080/"
        },
        "id": "wkPnhCTntwdo",
        "outputId": "37c199bc-b6d1-473e-f11f-0cd577033e13"
      },
      "execution_count": null,
      "outputs": [
        {
          "output_type": "stream",
          "name": "stdout",
          "text": [
            "4\n",
            "5\n",
            "6\n",
            "7\n",
            "8\n",
            "9\n",
            "2\n",
            "9\n",
            "9\n",
            "5\n",
            "9\n"
          ]
        }
      ]
    },
    {
      "cell_type": "code",
      "source": [
        "celcuis=int(input('ENter the temperature'))\n",
        "farenheit=(celcuis*9/5)+32\n",
        "print(farenheit)"
      ],
      "metadata": {
        "colab": {
          "base_uri": "https://localhost:8080/"
        },
        "id": "8N2aIt7uuPb_",
        "outputId": "85649d2a-8091-4c94-fd2d-cb625b017fe6"
      },
      "execution_count": null,
      "outputs": [
        {
          "output_type": "stream",
          "name": "stdout",
          "text": [
            "ENter the temperature34\n",
            "93.2\n"
          ]
        }
      ]
    },
    {
      "cell_type": "code",
      "source": [
        "import re\n",
        "user=input(len('password'))\n",
        "password=re.findall(r\"[a-zA-Z0-9+]\",user)\n",
        "print(password)"
      ],
      "metadata": {
        "id": "tjin14C1vhnN",
        "colab": {
          "base_uri": "https://localhost:8080/"
        },
        "outputId": "cdd9bbd9-ad88-43bb-d2aa-f6b09af13bca"
      },
      "execution_count": null,
      "outputs": [
        {
          "output_type": "stream",
          "name": "stdout",
          "text": [
            "8Avn@0238\n",
            "['A', 'v', 'n', '0', '2', '3', '8']\n"
          ]
        }
      ]
    },
    {
      "cell_type": "code",
      "source": [
        "import re\n",
        "def check_password(password):\n",
        "  score=0\n",
        "  suggest=[]\n",
        "if len(password)>=8:\n",
        "  score+=1\n",
        "else:\n",
        "  suggest.append('Password should be at least 8 characters long.')\n",
        "if re.search(r'[a-z]',password):\n",
        "  score+=1\n",
        "else:\n",
        "  suggest.append('Password should contain at least one lowercase letter.')\n",
        "if re.search(r'[A-Z]',password):\n",
        "  score+=1\n",
        "else:\n",
        "  suggest.append('Password should contain at least one uppercase letter.')\n",
        "if re.search(r'[0-9]',password):\n",
        "  score+=1\n",
        "else:\n",
        "  suggest.append('Password should contain at least one digit.')\n",
        "if re.search(r'[@#$%^&+=]',password):\n",
        "  score+=1\n",
        "else:\n",
        "  suggest.append('Password should contain at least one special character.')\n",
        "return score,suggest\n",
        "\n",
        "password = input(\"Input a password: \")\n",
        "print(check_password(password))"
      ],
      "metadata": {
        "colab": {
          "base_uri": "https://localhost:8080/",
          "height": 211
        },
        "id": "Oea8XIgMa7iB",
        "outputId": "174b57f4-37a1-480b-b55e-2bb15726a331"
      },
      "execution_count": null,
      "outputs": [
        {
          "output_type": "error",
          "ename": "NameError",
          "evalue": "name 'suggest' is not defined",
          "traceback": [
            "\u001b[0;31m---------------------------------------------------------------------------\u001b[0m",
            "\u001b[0;31mNameError\u001b[0m                                 Traceback (most recent call last)",
            "\u001b[0;32m<ipython-input-6-5244086ab57e>\u001b[0m in \u001b[0;36m<cell line: 5>\u001b[0;34m()\u001b[0m\n\u001b[1;32m      6\u001b[0m   \u001b[0mscore\u001b[0m\u001b[0;34m+=\u001b[0m\u001b[0;36m1\u001b[0m\u001b[0;34m\u001b[0m\u001b[0;34m\u001b[0m\u001b[0m\n\u001b[1;32m      7\u001b[0m \u001b[0;32melse\u001b[0m\u001b[0;34m:\u001b[0m\u001b[0;34m\u001b[0m\u001b[0;34m\u001b[0m\u001b[0m\n\u001b[0;32m----> 8\u001b[0;31m   \u001b[0msuggest\u001b[0m\u001b[0;34m.\u001b[0m\u001b[0mappend\u001b[0m\u001b[0;34m(\u001b[0m\u001b[0;34m'Password should be at least 8 characters long.'\u001b[0m\u001b[0;34m)\u001b[0m\u001b[0;34m\u001b[0m\u001b[0;34m\u001b[0m\u001b[0m\n\u001b[0m\u001b[1;32m      9\u001b[0m \u001b[0;32mif\u001b[0m \u001b[0mre\u001b[0m\u001b[0;34m.\u001b[0m\u001b[0msearch\u001b[0m\u001b[0;34m(\u001b[0m\u001b[0;34mr'[a-z]'\u001b[0m\u001b[0;34m,\u001b[0m\u001b[0mpassword\u001b[0m\u001b[0;34m)\u001b[0m\u001b[0;34m:\u001b[0m\u001b[0;34m\u001b[0m\u001b[0;34m\u001b[0m\u001b[0m\n\u001b[1;32m     10\u001b[0m   \u001b[0mscore\u001b[0m\u001b[0;34m+=\u001b[0m\u001b[0;36m1\u001b[0m\u001b[0;34m\u001b[0m\u001b[0;34m\u001b[0m\u001b[0m\n",
            "\u001b[0;31mNameError\u001b[0m: name 'suggest' is not defined"
          ]
        }
      ]
    },
    {
      "cell_type": "code",
      "source": [
        "my_dict = {\"name\": \"Alice\", \"age\": 30, \"city\": \"New York\",\"clg\":\"vit\"}\n",
        "print(len(my_dict.keys()))"
      ],
      "metadata": {
        "colab": {
          "base_uri": "https://localhost:8080/"
        },
        "id": "6Q7W8geheRE9",
        "outputId": "d8edccd3-c1a2-458a-b44c-326b6b5013d1"
      },
      "execution_count": null,
      "outputs": [
        {
          "output_type": "stream",
          "name": "stdout",
          "text": [
            "4\n"
          ]
        }
      ]
    },
    {
      "cell_type": "code",
      "source": [
        "my_dict = {\"name\": \"Alice\", \"age\": 30, \"city\": \"New York\",\"clg\":\"vit\"}\n",
        "print(list(my_dict.keys()))\n",
        "print(list(my_dict.values()))"
      ],
      "metadata": {
        "colab": {
          "base_uri": "https://localhost:8080/"
        },
        "id": "19A7vuIQhp-O",
        "outputId": "19dbfa68-6d6b-4fbd-8cb8-66db2ce08a13"
      },
      "execution_count": null,
      "outputs": [
        {
          "output_type": "stream",
          "name": "stdout",
          "text": [
            "['name', 'age', 'city', 'clg']\n",
            "['Alice', 30, 'New York', 'vit']\n"
          ]
        }
      ]
    },
    {
      "cell_type": "code",
      "source": [
        "array_random = np.random.rand(2, 2)\n",
        "print(\"Array with random values:\\n\", array_random)"
      ],
      "metadata": {
        "colab": {
          "base_uri": "https://localhost:8080/"
        },
        "id": "PrOAMqjaoVzg",
        "outputId": "2b7284f8-055a-42c0-f414-c9083bbd0d1e"
      },
      "execution_count": null,
      "outputs": [
        {
          "output_type": "stream",
          "name": "stdout",
          "text": [
            "Array with random values:\n",
            " [[0.27155858 0.35151114]\n",
            " [0.74687768 0.41487629]]\n"
          ]
        }
      ]
    },
    {
      "cell_type": "code",
      "source": [
        "array_random = np.ones((2, 2))\n",
        "print(\"Array with random values:\\n\", array_random)"
      ],
      "metadata": {
        "colab": {
          "base_uri": "https://localhost:8080/"
        },
        "id": "eCTecrT4pPoR",
        "outputId": "537997f6-0286-4549-fca5-e6fbf49124ba"
      },
      "execution_count": null,
      "outputs": [
        {
          "output_type": "stream",
          "name": "stdout",
          "text": [
            "Array with random values:\n",
            " [[1. 1.]\n",
            " [1. 1.]]\n"
          ]
        }
      ]
    },
    {
      "cell_type": "code",
      "source": [
        "my_dict = {\n",
        "    1: \"apple\",\n",
        "    2: \"banana\",\n",
        "    3: \"cherry\",\n",
        "    4: \"date\",\n",
        "    5: \"elderberry\",\n",
        "    6: \"blackberry\"\n",
        "}\n",
        "print(max(my_dict.keys()))"
      ],
      "metadata": {
        "colab": {
          "base_uri": "https://localhost:8080/"
        },
        "id": "yZnXcUKNpl2V",
        "outputId": "a0831086-4fbf-4e18-e491-a48f9a15c05e"
      },
      "execution_count": null,
      "outputs": [
        {
          "output_type": "stream",
          "name": "stdout",
          "text": [
            "6\n"
          ]
        }
      ]
    },
    {
      "cell_type": "code",
      "source": [
        "my_dict = {\"name\": \"Alice\", \"age\": 30, \"city\": \"New York\",\"clg\":\"vit\"}\n",
        "my_dict[\"city\"]=\"Hyderabad\"\n",
        "print(my_dict)"
      ],
      "metadata": {
        "colab": {
          "base_uri": "https://localhost:8080/"
        },
        "id": "bFNkRgNzqtLC",
        "outputId": "cac07b00-2dda-4331-81f0-39c4d749cabc"
      },
      "execution_count": null,
      "outputs": [
        {
          "output_type": "stream",
          "name": "stdout",
          "text": [
            "{'name': 'Alice', 'age': 30, 'city': 'Hyderabad', 'clg': 'vit'}\n"
          ]
        }
      ]
    },
    {
      "cell_type": "code",
      "source": [
        "r=int(input('Enter the radius'))\n",
        "circumference=2*3.14*r\n",
        "Area=3.14*r*r\n",
        "print(circumference)\n",
        "print(Area)"
      ],
      "metadata": {
        "colab": {
          "base_uri": "https://localhost:8080/"
        },
        "id": "zQGRA3Dzq_lq",
        "outputId": "12ae445d-8441-496d-91f2-053ee1485d71"
      },
      "execution_count": null,
      "outputs": [
        {
          "output_type": "stream",
          "name": "stdout",
          "text": [
            "Enter the radius10\n",
            "62.800000000000004\n",
            "314.0\n"
          ]
        }
      ]
    },
    {
      "cell_type": "code",
      "source": [
        "my_dict={8: 20, 1: 50, 2: 80, 3: 10, 4: 30}\n",
        "print(sum(my_dict.keys()))\n",
        "print(sum(my_dict.values()))"
      ],
      "metadata": {
        "colab": {
          "base_uri": "https://localhost:8080/"
        },
        "id": "sHrUmPcTrYPs",
        "outputId": "4b9d211d-a708-4a80-92c3-f1f634460e8e"
      },
      "execution_count": null,
      "outputs": [
        {
          "output_type": "stream",
          "name": "stdout",
          "text": [
            "18\n",
            "190\n"
          ]
        }
      ]
    },
    {
      "cell_type": "code",
      "source": [
        "my_dict = {\"name\": \"Alice\", \"age\": \"thirty\", \"city\": \"New York\",\"clg\":\"vit\"}\n",
        "divide=list(my_dict.values())\n",
        "vowels='aeiouAEIOU'\n",
        "for i in divide:\n",
        "  if i in vowels:\n",
        "    print(i)\n"
      ],
      "metadata": {
        "id": "RpOON6fvsJz_"
      },
      "execution_count": null,
      "outputs": []
    },
    {
      "cell_type": "code",
      "source": [
        "zeros=np.zeros((2,2))\n",
        "print(zeros)"
      ],
      "metadata": {
        "colab": {
          "base_uri": "https://localhost:8080/"
        },
        "id": "3jm1uaLWvIb6",
        "outputId": "a063203c-6bd1-4a17-da82-b74e329c006a"
      },
      "execution_count": null,
      "outputs": [
        {
          "output_type": "stream",
          "name": "stdout",
          "text": [
            "[[0. 0.]\n",
            " [0. 0.]]\n"
          ]
        }
      ]
    },
    {
      "cell_type": "code",
      "source": [
        "# Multiplication table (from 1 to 10) in Python\n",
        "num =int(input('wnter the bumber'))\n",
        "for i in range(1, 11):\n",
        "   print(num, 'x', i, '=', num*i)"
      ],
      "metadata": {
        "colab": {
          "base_uri": "https://localhost:8080/"
        },
        "id": "quamPSmuvOzF",
        "outputId": "d3ed1ef8-2a94-4f0a-8f9a-18e1b6c1a1a0"
      },
      "execution_count": null,
      "outputs": [
        {
          "output_type": "stream",
          "name": "stdout",
          "text": [
            "wnter the bumber4\n",
            "4 x 1 = 4\n",
            "4 x 2 = 8\n",
            "4 x 3 = 12\n",
            "4 x 4 = 16\n",
            "4 x 5 = 20\n",
            "4 x 6 = 24\n",
            "4 x 7 = 28\n",
            "4 x 8 = 32\n",
            "4 x 9 = 36\n",
            "4 x 10 = 40\n"
          ]
        }
      ]
    },
    {
      "cell_type": "code",
      "source": [
        "arr1=np.array([10,20,30])\n",
        "arr2=np.array([40,50,60])\n",
        "addition=arr1+arr2\n",
        "print(addition)"
      ],
      "metadata": {
        "colab": {
          "base_uri": "https://localhost:8080/"
        },
        "id": "kw8GEazqvtzH",
        "outputId": "40fbd590-6f25-4f59-d244-02605d53afd0"
      },
      "execution_count": null,
      "outputs": [
        {
          "output_type": "stream",
          "name": "stdout",
          "text": [
            "[50 70 90]\n"
          ]
        }
      ]
    },
    {
      "cell_type": "code",
      "source": [
        "matri=np.zeros(4,3).reshape(4,3)\n",
        "print(matri)"
      ],
      "metadata": {
        "id": "jRQWGXLuxvwy"
      },
      "execution_count": null,
      "outputs": []
    },
    {
      "cell_type": "code",
      "source": [
        "import numpy as np\n",
        "arr=np.arange(0,12).reshape(4,3)\n",
        "print(arr)"
      ],
      "metadata": {
        "id": "lo8eMMO9x-kg",
        "colab": {
          "base_uri": "https://localhost:8080/"
        },
        "outputId": "889b9c0b-785a-498e-f5f6-3d1b8557e967"
      },
      "execution_count": null,
      "outputs": [
        {
          "output_type": "stream",
          "name": "stdout",
          "text": [
            "[[ 0  1  2]\n",
            " [ 3  4  5]\n",
            " [ 6  7  8]\n",
            " [ 9 10 11]]\n"
          ]
        }
      ]
    },
    {
      "cell_type": "code",
      "source": [
        "import numpy as np\n",
        "arr=np.array([12,3,4,5,6,8,7])\n",
        "print(list(arr))"
      ],
      "metadata": {
        "colab": {
          "base_uri": "https://localhost:8080/"
        },
        "id": "NB6kHwtruHtS",
        "outputId": "23e61b0e-469b-4b65-95d4-759058888fb1"
      },
      "execution_count": null,
      "outputs": [
        {
          "output_type": "stream",
          "name": "stdout",
          "text": [
            "[12, 3, 4, 5, 6, 8, 7]\n"
          ]
        }
      ]
    },
    {
      "cell_type": "code",
      "source": [
        "array = np.array([0, 1, 2, 0, 3])\n",
        "for i in array:\n",
        "  print(bool(i))"
      ],
      "metadata": {
        "colab": {
          "base_uri": "https://localhost:8080/"
        },
        "id": "rwue0BQYvgQh",
        "outputId": "48c8ed81-da39-4799-8ece-52578a036b0a"
      },
      "execution_count": null,
      "outputs": [
        {
          "output_type": "stream",
          "name": "stdout",
          "text": [
            "False\n",
            "True\n",
            "True\n",
            "False\n",
            "True\n"
          ]
        }
      ]
    },
    {
      "cell_type": "code",
      "source": [
        "import numpy as np\n",
        "mat=np.zeros(16).reshape(4,4)\n",
        "diag=np.fill_diagonal(mat,[6,7,8,9])\n",
        "print(mat)"
      ],
      "metadata": {
        "colab": {
          "base_uri": "https://localhost:8080/"
        },
        "id": "CHoRmPdNv-BS",
        "outputId": "b5a0b3d7-0b91-4967-d95b-2eb6822ab7b2"
      },
      "execution_count": null,
      "outputs": [
        {
          "output_type": "stream",
          "name": "stdout",
          "text": [
            "[[6. 0. 0. 0.]\n",
            " [0. 7. 0. 0.]\n",
            " [0. 0. 8. 0.]\n",
            " [0. 0. 0. 9.]]\n"
          ]
        }
      ]
    },
    {
      "cell_type": "code",
      "source": [
        "details={\"name\": \"Alice\", \"city\": \"Wonderland\", \"fruit\": \"Apple\"}\n",
        "for i.values() in details:\n",
        "  print(len(i))"
      ],
      "metadata": {
        "colab": {
          "base_uri": "https://localhost:8080/",
          "height": 106
        },
        "id": "Hl1Mb3UKwTC_",
        "outputId": "cc87adee-525d-4b15-c573-ffa9828d5b22"
      },
      "execution_count": null,
      "outputs": [
        {
          "output_type": "error",
          "ename": "SyntaxError",
          "evalue": "cannot assign to function call (<ipython-input-24-9743e476e9d1>, line 2)",
          "traceback": [
            "\u001b[0;36m  File \u001b[0;32m\"<ipython-input-24-9743e476e9d1>\"\u001b[0;36m, line \u001b[0;32m2\u001b[0m\n\u001b[0;31m    for i.values() in details:\u001b[0m\n\u001b[0m        ^\u001b[0m\n\u001b[0;31mSyntaxError\u001b[0m\u001b[0;31m:\u001b[0m cannot assign to function call\n"
          ]
        }
      ]
    },
    {
      "cell_type": "code",
      "source": [
        "my_list = [\"apple\", \"banana\", \"cherry\"]\n",
        "convert={i:12 for i in my_list}\n",
        "print(convert)"
      ],
      "metadata": {
        "colab": {
          "base_uri": "https://localhost:8080/"
        },
        "id": "BiXHPjD1z4jT",
        "outputId": "867d4edf-b390-4c4e-c239-2020bf9c6e9f"
      },
      "execution_count": null,
      "outputs": [
        {
          "output_type": "stream",
          "name": "stdout",
          "text": [
            "{'apple': 12, 'banana': 12, 'cherry': 12}\n"
          ]
        }
      ]
    },
    {
      "cell_type": "code",
      "source": [
        "from os import listdir\n",
        "list=[1, 2, 3, 4, 5, 6, 7, 8, 9, 10, 11, 12, 13, 14, 15, 16, 17, 18, 19, 20]\n",
        "for i in list:\n",
        "  if i<20 and i>5:\n",
        "    print(i)"
      ],
      "metadata": {
        "colab": {
          "base_uri": "https://localhost:8080/"
        },
        "id": "iGjfC7HG3MF6",
        "outputId": "4df7d477-d5b1-4fcc-f368-9a05d16e941b"
      },
      "execution_count": null,
      "outputs": [
        {
          "output_type": "stream",
          "name": "stdout",
          "text": [
            "6\n",
            "7\n",
            "8\n",
            "9\n",
            "10\n",
            "11\n",
            "12\n",
            "13\n",
            "14\n",
            "15\n",
            "16\n",
            "17\n",
            "18\n",
            "19\n"
          ]
        }
      ]
    },
    {
      "cell_type": "code",
      "source": [
        "list = [\"A\", \"b\", \"E\", \"DCM\", \"ks\", \"ssd\", \"Adf\", \"EDd\"]\n",
        "new=[i.upper() for i in list]\n",
        "print(list)"
      ],
      "metadata": {
        "colab": {
          "base_uri": "https://localhost:8080/"
        },
        "id": "E8bTZmrH3tWJ",
        "outputId": "3c9a2afe-908c-4304-ef00-5d9808fddc26"
      },
      "execution_count": null,
      "outputs": [
        {
          "output_type": "stream",
          "name": "stdout",
          "text": [
            "['A', 'b', 'E', 'DCM', 'ks', 'ssd', 'Adf', 'EDd']\n"
          ]
        }
      ]
    },
    {
      "cell_type": "code",
      "source": [
        "import numpy as np\n",
        "arr=np.tile([12,3,4,5,6,8,7],2)\n",
        "print(arr)"
      ],
      "metadata": {
        "id": "p4lBPD-J5I-v",
        "colab": {
          "base_uri": "https://localhost:8080/"
        },
        "outputId": "505ce981-98af-4f6f-cbf0-5e89bde48243"
      },
      "execution_count": null,
      "outputs": [
        {
          "output_type": "stream",
          "name": "stdout",
          "text": [
            "[12  3  4  5  6  8  7 12  3  4  5  6  8  7]\n"
          ]
        }
      ]
    },
    {
      "cell_type": "code",
      "source": [
        "import numpy as np\n",
        "arr=np.array([12,3,4,5,6,8,7])\n",
        "arr[arr==12]=9\n",
        "print(arr)"
      ],
      "metadata": {
        "id": "oqDZCyor63W-",
        "colab": {
          "base_uri": "https://localhost:8080/"
        },
        "outputId": "4d51480f-633d-43c1-9b1e-b70e320a9724"
      },
      "execution_count": null,
      "outputs": [
        {
          "output_type": "stream",
          "name": "stdout",
          "text": [
            "[9 3 4 5 6 8 7]\n"
          ]
        }
      ]
    },
    {
      "cell_type": "code",
      "source": [
        "arr=np.array([12,3,4,5,6,8,7])\n",
        "val=np.append(arr,[23,24,56])\n",
        "print(val)"
      ],
      "metadata": {
        "id": "7KjHtXd17xbW",
        "colab": {
          "base_uri": "https://localhost:8080/"
        },
        "outputId": "21df5db9-cda6-435b-a9c8-3fc7d5229678"
      },
      "execution_count": null,
      "outputs": [
        {
          "output_type": "stream",
          "name": "stdout",
          "text": [
            "[12  3  4  5  6  8  7 23 24 56]\n"
          ]
        }
      ]
    },
    {
      "cell_type": "code",
      "source": [
        "import numpy as np\n",
        "import pandas as pd\n",
        "arr=np.array([12,3,4,5,6,8,7])\n",
        "ser=pd.Series(arr)\n",
        "print(ser)"
      ],
      "metadata": {
        "colab": {
          "base_uri": "https://localhost:8080/"
        },
        "id": "__3FHdWpG_nA",
        "outputId": "d411318f-4c3f-4ee5-f8ad-f736276fb467"
      },
      "execution_count": null,
      "outputs": [
        {
          "output_type": "stream",
          "name": "stdout",
          "text": [
            "0    12\n",
            "1     3\n",
            "2     4\n",
            "3     5\n",
            "4     6\n",
            "5     8\n",
            "6     7\n",
            "dtype: int64\n"
          ]
        }
      ]
    },
    {
      "cell_type": "code",
      "source": [
        "arr=np.array([12,3,4,5,6,8,7])\n",
        "tran=np.transpose(arr)\n",
        "print(tran)"
      ],
      "metadata": {
        "colab": {
          "base_uri": "https://localhost:8080/"
        },
        "id": "ujAnGFpGIdbK",
        "outputId": "79fb43a4-041f-4c0e-9d8c-abf72746f9bc"
      },
      "execution_count": null,
      "outputs": [
        {
          "output_type": "stream",
          "name": "stdout",
          "text": [
            "[12  3  4  5  6  8  7]\n"
          ]
        }
      ]
    },
    {
      "cell_type": "code",
      "source": [
        "compre=[i for i in range(1,100)  if i%4==0 or i%5==0]\n",
        "print(compre)"
      ],
      "metadata": {
        "colab": {
          "base_uri": "https://localhost:8080/"
        },
        "id": "i5Hl5QlbIjKv",
        "outputId": "6df7bf5b-a11b-4733-fe33-38509dedcd62"
      },
      "execution_count": null,
      "outputs": [
        {
          "output_type": "stream",
          "name": "stdout",
          "text": [
            "[4, 5, 8, 10, 12, 15, 16, 20, 24, 25, 28, 30, 32, 35, 36, 40, 44, 45, 48, 50, 52, 55, 56, 60, 64, 65, 68, 70, 72, 75, 76, 80, 84, 85, 88, 90, 92, 95, 96]\n"
          ]
        }
      ]
    },
    {
      "cell_type": "code",
      "source": [
        "my_dict = {\"name\": \"Alice\", \"age\": 30, \"city\": \"New York\",\"clg\":\"vit\"}\n",
        "my_dict[\"univeristy\"]=my_dict.pop(\"clg\")\n",
        "print(my_dict)"
      ],
      "metadata": {
        "colab": {
          "base_uri": "https://localhost:8080/"
        },
        "id": "jUdJ2ZXQKsfQ",
        "outputId": "d9adc5a6-4e22-4472-c91d-65775dbd7b22"
      },
      "execution_count": null,
      "outputs": [
        {
          "output_type": "stream",
          "name": "stdout",
          "text": [
            "{'name': 'Alice', 'age': 30, 'city': 'New York', 'univeristy': 'vit'}\n"
          ]
        }
      ]
    },
    {
      "cell_type": "code",
      "source": [
        "lst=[9,-2,3,-4,5,6,-8,7]\n",
        "pos=[i for i in lst if i>0]\n",
        "neg=[i for i in lst if i<0]\n",
        "print(pos)\n",
        "print(neg)"
      ],
      "metadata": {
        "colab": {
          "base_uri": "https://localhost:8080/"
        },
        "id": "zIhgQHrqLBK4",
        "outputId": "7ef007bd-ecf0-4aa0-c3d1-0457a0475c07"
      },
      "execution_count": null,
      "outputs": [
        {
          "output_type": "stream",
          "name": "stdout",
          "text": [
            "[9, 3, 5, 6, 7]\n",
            "[-2, -4, -8]\n"
          ]
        }
      ]
    },
    {
      "cell_type": "code",
      "source": [
        "class Hero:\n",
        "  def __init__(self,name):\n",
        "    self.name=name\n",
        "hero1=Hero('thor')\n",
        "hero2=Hero('ironman')\n",
        "hero3=Hero('spiderman')\n",
        "print(hero1.name)\n",
        "print(hero2.name)\n",
        "print(hero3.name)"
      ],
      "metadata": {
        "colab": {
          "base_uri": "https://localhost:8080/"
        },
        "id": "CVrPCsN6MYLv",
        "outputId": "89ad0132-c5db-4f6d-a596-6a1df585df5a"
      },
      "execution_count": null,
      "outputs": [
        {
          "output_type": "stream",
          "name": "stdout",
          "text": [
            "thor\n",
            "ironman\n",
            "spiderman\n"
          ]
        }
      ]
    },
    {
      "cell_type": "code",
      "source": [
        "email=input('ENter the email')\n",
        "if '@' in email:\n",
        "  print('Valid')\n",
        "else:\n",
        "  print('invalid')"
      ],
      "metadata": {
        "colab": {
          "base_uri": "https://localhost:8080/"
        },
        "id": "Voyc4MXANR3u",
        "outputId": "988a0b42-3513-46e9-d32a-9681e38cd4f5"
      },
      "execution_count": null,
      "outputs": [
        {
          "output_type": "stream",
          "name": "stdout",
          "text": [
            "ENter the emailveeru123gmail.com\n",
            "invalid\n"
          ]
        }
      ]
    },
    {
      "cell_type": "code",
      "source": [
        "import sys\n",
        "print('platform',sys.platform)"
      ],
      "metadata": {
        "colab": {
          "base_uri": "https://localhost:8080/"
        },
        "id": "tLox1V86OITj",
        "outputId": "2de54623-be6a-446a-8c80-a531db61fd6a"
      },
      "execution_count": null,
      "outputs": [
        {
          "output_type": "stream",
          "name": "stdout",
          "text": [
            "platform linux\n"
          ]
        }
      ]
    },
    {
      "cell_type": "code",
      "source": [
        "import platform\n",
        "\n",
        "# Get the system/OS name\n",
        "print(\"System/OS:\", platform.system())\n",
        "\n",
        "# Get the release version of the OS\n",
        "print(\"OS Release Version:\", platform.release())\n",
        "\n",
        "# Get the version of the OS\n",
        "print(\"OS Version:\", platform.version())\n",
        "\n",
        "# Get the machine type (e.g., 'x86_64' for 64-bit systems)\n",
        "print(\"Machine Type:\", platform.machine())\n",
        "\n",
        "# Get the processor type\n",
        "print(\"Processor Type:\", platform.processor())\n",
        "\n",
        "# Get the Python version\n",
        "print(\"Python Version:\", platform.python_version())\n"
      ],
      "metadata": {
        "colab": {
          "base_uri": "https://localhost:8080/"
        },
        "id": "dRkxZ7m8PcMQ",
        "outputId": "8253bfc6-1968-4127-8142-f6c3c34a1f12"
      },
      "execution_count": null,
      "outputs": [
        {
          "output_type": "stream",
          "name": "stdout",
          "text": [
            "System/OS: Linux\n",
            "OS Release Version: 6.1.85+\n",
            "OS Version: #1 SMP PREEMPT_DYNAMIC Thu Jun 27 21:05:47 UTC 2024\n",
            "Machine Type: x86_64\n",
            "Processor Type: x86_64\n",
            "Python Version: 3.10.12\n"
          ]
        }
      ]
    },
    {
      "cell_type": "code",
      "source": [
        "import tkinter\n",
        "window=tkinter.TK()\n",
        "window.title('Hello guys')\n",
        "window.mainloop()"
      ],
      "metadata": {
        "colab": {
          "base_uri": "https://localhost:8080/",
          "height": 193
        },
        "id": "gEae4iyVPkCL",
        "outputId": "08b036ae-ecc7-4fd6-b8a4-64d0d399964d"
      },
      "execution_count": null,
      "outputs": [
        {
          "output_type": "error",
          "ename": "AttributeError",
          "evalue": "module 'tkinter' has no attribute 'TK'",
          "traceback": [
            "\u001b[0;31m---------------------------------------------------------------------------\u001b[0m",
            "\u001b[0;31mAttributeError\u001b[0m                            Traceback (most recent call last)",
            "\u001b[0;32m<ipython-input-42-608b4d1c17fa>\u001b[0m in \u001b[0;36m<cell line: 2>\u001b[0;34m()\u001b[0m\n\u001b[1;32m      1\u001b[0m \u001b[0;32mimport\u001b[0m \u001b[0mtkinter\u001b[0m\u001b[0;34m\u001b[0m\u001b[0;34m\u001b[0m\u001b[0m\n\u001b[0;32m----> 2\u001b[0;31m \u001b[0mwindow\u001b[0m\u001b[0;34m=\u001b[0m\u001b[0mtkinter\u001b[0m\u001b[0;34m.\u001b[0m\u001b[0mTK\u001b[0m\u001b[0;34m(\u001b[0m\u001b[0;34m)\u001b[0m\u001b[0;34m\u001b[0m\u001b[0;34m\u001b[0m\u001b[0m\n\u001b[0m\u001b[1;32m      3\u001b[0m \u001b[0mwindow\u001b[0m\u001b[0;34m.\u001b[0m\u001b[0mtitle\u001b[0m\u001b[0;34m(\u001b[0m\u001b[0;34m'Hello guys'\u001b[0m\u001b[0;34m)\u001b[0m\u001b[0;34m\u001b[0m\u001b[0;34m\u001b[0m\u001b[0m\n\u001b[1;32m      4\u001b[0m \u001b[0mwindow\u001b[0m\u001b[0;34m.\u001b[0m\u001b[0mmainloop\u001b[0m\u001b[0;34m(\u001b[0m\u001b[0;34m)\u001b[0m\u001b[0;34m\u001b[0m\u001b[0;34m\u001b[0m\u001b[0m\n",
            "\u001b[0;31mAttributeError\u001b[0m: module 'tkinter' has no attribute 'TK'"
          ]
        }
      ]
    },
    {
      "cell_type": "code",
      "source": [
        "name='VeerendraAmaravathi'\n",
        "sub=name[9:19][::-1]\n",
        "print(sub)"
      ],
      "metadata": {
        "colab": {
          "base_uri": "https://localhost:8080/"
        },
        "id": "G2l2e1YxR5pe",
        "outputId": "b105f70f-3918-4186-b841-7f6ce8e73e53"
      },
      "execution_count": null,
      "outputs": [
        {
          "output_type": "stream",
          "name": "stdout",
          "text": [
            "ihtavaramA\n"
          ]
        }
      ]
    },
    {
      "cell_type": "code",
      "source": [
        "import tkinter as tk\n",
        "from tkinter import messagebox\n",
        "\n",
        "# Function to handle button click\n",
        "def on_button_click():\n",
        "    messagebox.showinfo(\"Button Clicked\", \"You clicked the image button!\")\n",
        "\n",
        "# Create the main window\n",
        "window = tk.Tk()\n",
        "window.title(\"Image Button Example\")\n",
        "\n",
        "# Set window size\n",
        "window.geometry(\"300x200\")\n",
        "\n",
        "# Load an image (ensure the image is in the same directory or provide the full path)\n",
        "# The image should be in PNG format for PhotoImage\n",
        "image = tk.PhotoImage(file=\"button_image.png\")  # Replace with your image file name\n",
        "\n",
        "# Create a button with the image\n",
        "image_button = tk.Button(window, image=image, command=on_button_click)\n",
        "\n",
        "# Place the button in the window\n",
        "image_button.pack(pady=20)\n",
        "\n",
        "# Run the application\n",
        "window.mainloop()\n"
      ],
      "metadata": {
        "colab": {
          "base_uri": "https://localhost:8080/",
          "height": 332
        },
        "id": "djDZ05RLSqCk",
        "outputId": "b39fe547-5b43-4610-b2ea-09c4ab445c8b"
      },
      "execution_count": null,
      "outputs": [
        {
          "output_type": "error",
          "ename": "TclError",
          "evalue": "no display name and no $DISPLAY environment variable",
          "traceback": [
            "\u001b[0;31m---------------------------------------------------------------------------\u001b[0m",
            "\u001b[0;31mTclError\u001b[0m                                  Traceback (most recent call last)",
            "\u001b[0;32m<ipython-input-53-485fddb98b6e>\u001b[0m in \u001b[0;36m<cell line: 9>\u001b[0;34m()\u001b[0m\n\u001b[1;32m      7\u001b[0m \u001b[0;34m\u001b[0m\u001b[0m\n\u001b[1;32m      8\u001b[0m \u001b[0;31m# Create the main window\u001b[0m\u001b[0;34m\u001b[0m\u001b[0;34m\u001b[0m\u001b[0m\n\u001b[0;32m----> 9\u001b[0;31m \u001b[0mwindow\u001b[0m \u001b[0;34m=\u001b[0m \u001b[0mtk\u001b[0m\u001b[0;34m.\u001b[0m\u001b[0mTk\u001b[0m\u001b[0;34m(\u001b[0m\u001b[0;34m)\u001b[0m\u001b[0;34m\u001b[0m\u001b[0;34m\u001b[0m\u001b[0m\n\u001b[0m\u001b[1;32m     10\u001b[0m \u001b[0mwindow\u001b[0m\u001b[0;34m.\u001b[0m\u001b[0mtitle\u001b[0m\u001b[0;34m(\u001b[0m\u001b[0;34m\"Image Button Example\"\u001b[0m\u001b[0;34m)\u001b[0m\u001b[0;34m\u001b[0m\u001b[0;34m\u001b[0m\u001b[0m\n\u001b[1;32m     11\u001b[0m \u001b[0;34m\u001b[0m\u001b[0m\n",
            "\u001b[0;32m/usr/lib/python3.10/tkinter/__init__.py\u001b[0m in \u001b[0;36m__init__\u001b[0;34m(self, screenName, baseName, className, useTk, sync, use)\u001b[0m\n\u001b[1;32m   2297\u001b[0m                 \u001b[0mbaseName\u001b[0m \u001b[0;34m=\u001b[0m \u001b[0mbaseName\u001b[0m \u001b[0;34m+\u001b[0m \u001b[0mext\u001b[0m\u001b[0;34m\u001b[0m\u001b[0;34m\u001b[0m\u001b[0m\n\u001b[1;32m   2298\u001b[0m         \u001b[0minteractive\u001b[0m \u001b[0;34m=\u001b[0m \u001b[0;32mFalse\u001b[0m\u001b[0;34m\u001b[0m\u001b[0;34m\u001b[0m\u001b[0m\n\u001b[0;32m-> 2299\u001b[0;31m         \u001b[0mself\u001b[0m\u001b[0;34m.\u001b[0m\u001b[0mtk\u001b[0m \u001b[0;34m=\u001b[0m \u001b[0m_tkinter\u001b[0m\u001b[0;34m.\u001b[0m\u001b[0mcreate\u001b[0m\u001b[0;34m(\u001b[0m\u001b[0mscreenName\u001b[0m\u001b[0;34m,\u001b[0m \u001b[0mbaseName\u001b[0m\u001b[0;34m,\u001b[0m \u001b[0mclassName\u001b[0m\u001b[0;34m,\u001b[0m \u001b[0minteractive\u001b[0m\u001b[0;34m,\u001b[0m \u001b[0mwantobjects\u001b[0m\u001b[0;34m,\u001b[0m \u001b[0museTk\u001b[0m\u001b[0;34m,\u001b[0m \u001b[0msync\u001b[0m\u001b[0;34m,\u001b[0m \u001b[0muse\u001b[0m\u001b[0;34m)\u001b[0m\u001b[0;34m\u001b[0m\u001b[0;34m\u001b[0m\u001b[0m\n\u001b[0m\u001b[1;32m   2300\u001b[0m         \u001b[0;32mif\u001b[0m \u001b[0museTk\u001b[0m\u001b[0;34m:\u001b[0m\u001b[0;34m\u001b[0m\u001b[0;34m\u001b[0m\u001b[0m\n\u001b[1;32m   2301\u001b[0m             \u001b[0mself\u001b[0m\u001b[0;34m.\u001b[0m\u001b[0m_loadtk\u001b[0m\u001b[0;34m(\u001b[0m\u001b[0;34m)\u001b[0m\u001b[0;34m\u001b[0m\u001b[0;34m\u001b[0m\u001b[0m\n",
            "\u001b[0;31mTclError\u001b[0m: no display name and no $DISPLAY environment variable"
          ]
        }
      ]
    },
    {
      "cell_type": "code",
      "source": [
        "user=input('enter the string with number')\n",
        "if user[0].isdigit() and user[-1].isdigit():\n",
        "  print('USER is valid')\n",
        "else:\n",
        "  print('User is invalid')"
      ],
      "metadata": {
        "colab": {
          "base_uri": "https://localhost:8080/"
        },
        "id": "hQ6sKUjnTI_s",
        "outputId": "0f1df742-fa3e-447e-8a73-1a76402d63f6"
      },
      "execution_count": null,
      "outputs": [
        {
          "output_type": "stream",
          "name": "stdout",
          "text": [
            "enter the string with numberveeru123\n",
            "User is invalid\n"
          ]
        }
      ]
    },
    {
      "cell_type": "code",
      "source": [
        "my_dict = {\"b\": 2, \"a\": 1, \"d\": 4, \"c\": 3}\n",
        "order=dict(sorted(my_dict.items()))\n",
        "print(order)"
      ],
      "metadata": {
        "colab": {
          "base_uri": "https://localhost:8080/"
        },
        "id": "cig8TwnDUMTP",
        "outputId": "0c889f08-dcfc-4eeb-9dba-e8fb6a164d51"
      },
      "execution_count": null,
      "outputs": [
        {
          "output_type": "stream",
          "name": "stdout",
          "text": [
            "{'a': 1, 'b': 2, 'c': 3, 'd': 4}\n"
          ]
        }
      ]
    },
    {
      "cell_type": "code",
      "source": [
        "arr = np.array([1, 2, 3, 4, 5])\n",
        "byte=arr.nbytes\n",
        "print(byte)"
      ],
      "metadata": {
        "colab": {
          "base_uri": "https://localhost:8080/"
        },
        "id": "OEMaCNBvXXjD",
        "outputId": "56a1df42-06f9-40f2-8a0a-26d10c24240f"
      },
      "execution_count": null,
      "outputs": [
        {
          "output_type": "stream",
          "name": "stdout",
          "text": [
            "40\n"
          ]
        }
      ]
    },
    {
      "cell_type": "code",
      "source": [
        "lst=[1, 2, 3, 4, 5, 6, 7, 8, 9,9,9,9,6,6,6,4,6,8,3,5,2,1,10]\n",
        "cou=lst.count(6)\n",
        "print(cou)"
      ],
      "metadata": {
        "colab": {
          "base_uri": "https://localhost:8080/"
        },
        "id": "5UNhLvXGYCDu",
        "outputId": "e5d08767-c1a3-4e7d-9587-d145bfdb5ccf"
      },
      "execution_count": null,
      "outputs": [
        {
          "output_type": "stream",
          "name": "stdout",
          "text": [
            "5\n"
          ]
        }
      ]
    },
    {
      "cell_type": "code",
      "source": [
        "print(np.array(range(1,30,2)))"
      ],
      "metadata": {
        "colab": {
          "base_uri": "https://localhost:8080/"
        },
        "id": "oImfB_hTYqxf",
        "outputId": "96b65aa9-240a-492a-c716-b071fbb8208f"
      },
      "execution_count": null,
      "outputs": [
        {
          "output_type": "stream",
          "name": "stdout",
          "text": [
            "[ 1  3  5  7  9 11 13 15 17 19 21 23 25 27 29]\n"
          ]
        }
      ]
    },
    {
      "cell_type": "code",
      "source": [
        "array=np.array([1, 2, 3, 4, 5, 6, 7, 8, 9,9,9,9,6,6,6,4,6,8,3,5,2,1,10])\n",
        "highest=np.max(array)\n",
        "print(highest)"
      ],
      "metadata": {
        "colab": {
          "base_uri": "https://localhost:8080/"
        },
        "id": "czjpeC1dY0K-",
        "outputId": "b6a0f7b9-f150-43b8-887c-3806a9c8443d"
      },
      "execution_count": null,
      "outputs": [
        {
          "output_type": "stream",
          "name": "stdout",
          "text": [
            "10\n"
          ]
        }
      ]
    },
    {
      "cell_type": "code",
      "source": [
        "class Divi:\n",
        "  def __init__(self,number):\n",
        "    self.number=number\n",
        "  def divisible(self):\n",
        "    return self.number%5==0\n",
        "\n",
        "user_input = int(input(\"Enter a number: \"))\n",
        "check = Divi(user_input)\n",
        "if check==0:\n",
        "  print('IT is divisible')\n",
        "else:\n",
        "  print('It is not divisible')\n"
      ],
      "metadata": {
        "colab": {
          "base_uri": "https://localhost:8080/"
        },
        "id": "D4JrplxsZbEd",
        "outputId": "c5b48863-683c-4832-c985-7363a8012d7a"
      },
      "execution_count": null,
      "outputs": [
        {
          "output_type": "stream",
          "name": "stdout",
          "text": [
            "Enter a number: 50\n",
            "It is not divisible\n"
          ]
        }
      ]
    },
    {
      "cell_type": "code",
      "source": [
        "a=int(input(\"ENTER THE FIRST NUMBER\"))\n",
        "b=int(input(\"ENTER THE SECOND NUMBER\"))\n",
        "c=int(input(\"ENTER THE THIRD NUMBER\"))\n",
        "quadrictic=(-b+(b**2-4*a*c)**0.5)/(2*a)\n",
        "#uadriti=(-b-())\n",
        "print(quadrictic)"
      ],
      "metadata": {
        "id": "JR9t-VIXaIe7",
        "colab": {
          "base_uri": "https://localhost:8080/"
        },
        "outputId": "d63e49e8-7a6f-4337-b776-ca905c7d5c8d"
      },
      "execution_count": null,
      "outputs": [
        {
          "output_type": "stream",
          "name": "stdout",
          "text": [
            "ENTER THE FIRST NUMBER10\n",
            "ENTER THE SECOND NUMBER0\n",
            "ENTER THE THIRD NUMBER10\n",
            "(6.123233995736766e-17+1j)\n"
          ]
        }
      ]
    },
    {
      "cell_type": "code",
      "source": [
        "import pandas as pd\n",
        "num1=int(input(\"ENTER THE FIRST NUMBER\"))\n",
        "num2=int(input(\"ENTER THE SECOND NUMBER\"))\n",
        "num3=int(input(\"ENTER THE THIRD NUMBER\"))\n",
        "num4=int(input(\"ENTER THE FOURTH NUMBER\"))\n",
        "num5=int(input(\"ENTER THE FIFTH NUMBER\"))\n",
        "list=[num1,num2,num3,num4,num5]\n",
        "print(list)"
      ],
      "metadata": {
        "colab": {
          "base_uri": "https://localhost:8080/"
        },
        "id": "5thdYBYfUjnE",
        "outputId": "385f0630-596b-4f15-bac0-b9160783817c"
      },
      "execution_count": null,
      "outputs": [
        {
          "output_type": "stream",
          "name": "stdout",
          "text": [
            "ENTER THE FIRST NUMBER20\n",
            "ENTER THE SECOND NUMBER40\n",
            "ENTER THE THIRD NUMBER50\n",
            "ENTER THE FOURTH NUMBER60\n",
            "ENTER THE FIFTH NUMBER70\n",
            "[20, 40, 50, 60, 70]\n"
          ]
        }
      ]
    },
    {
      "cell_type": "code",
      "source": [
        "alpha_index=list(string\n",
        "                 .ascii_lowercase[:len(list)])\n",
        "print(pd.Series(list,index=alpha_index))"
      ],
      "metadata": {
        "colab": {
          "base_uri": "https://localhost:8080/",
          "height": 158
        },
        "id": "J9_PPPiLW1Aw",
        "outputId": "bc070e94-7bbe-466e-d041-9eb40572c345"
      },
      "execution_count": null,
      "outputs": [
        {
          "output_type": "error",
          "ename": "AttributeError",
          "evalue": "type object 'str' has no attribute 'ascii_lowercase'",
          "traceback": [
            "\u001b[0;31m---------------------------------------------------------------------------\u001b[0m",
            "\u001b[0;31mAttributeError\u001b[0m                            Traceback (most recent call last)",
            "\u001b[0;32m<ipython-input-13-86ed250f0d12>\u001b[0m in \u001b[0;36m<cell line: 1>\u001b[0;34m()\u001b[0m\n\u001b[0;32m----> 1\u001b[0;31m \u001b[0malpha_index\u001b[0m\u001b[0;34m=\u001b[0m\u001b[0mlist\u001b[0m\u001b[0;34m(\u001b[0m\u001b[0mstr\u001b[0m\u001b[0;34m.\u001b[0m\u001b[0mascii_lowercase\u001b[0m\u001b[0;34m[\u001b[0m\u001b[0;34m:\u001b[0m\u001b[0mlen\u001b[0m\u001b[0;34m(\u001b[0m\u001b[0mlist\u001b[0m\u001b[0;34m)\u001b[0m\u001b[0;34m]\u001b[0m\u001b[0;34m)\u001b[0m\u001b[0;34m\u001b[0m\u001b[0;34m\u001b[0m\u001b[0m\n\u001b[0m\u001b[1;32m      2\u001b[0m \u001b[0mprint\u001b[0m\u001b[0;34m(\u001b[0m\u001b[0mpd\u001b[0m\u001b[0;34m.\u001b[0m\u001b[0mSeries\u001b[0m\u001b[0;34m(\u001b[0m\u001b[0mlist\u001b[0m\u001b[0;34m,\u001b[0m\u001b[0mindex\u001b[0m\u001b[0;34m=\u001b[0m\u001b[0malpha_index\u001b[0m\u001b[0;34m)\u001b[0m\u001b[0;34m)\u001b[0m\u001b[0;34m\u001b[0m\u001b[0;34m\u001b[0m\u001b[0m\n",
            "\u001b[0;31mAttributeError\u001b[0m: type object 'str' has no attribute 'ascii_lowercase'"
          ]
        }
      ]
    },
    {
      "cell_type": "code",
      "source": [
        "import pandas as pd\n",
        "data = [10, 20, 30, 40, 50]\n",
        "my_series = pd.Series(data,index=['a','b', 'c', 'd', 'e'])\n",
        "print(my_series)"
      ],
      "metadata": {
        "colab": {
          "base_uri": "https://localhost:8080/"
        },
        "id": "5XS7Ra8SXP3Y",
        "outputId": "e8006e37-4860-488f-9320-d88e19778d03"
      },
      "execution_count": null,
      "outputs": [
        {
          "output_type": "stream",
          "name": "stdout",
          "text": [
            "a    10\n",
            "b    20\n",
            "c    30\n",
            "d    40\n",
            "e    50\n",
            "dtype: int64\n"
          ]
        }
      ]
    },
    {
      "cell_type": "code",
      "source": [
        "data = {'1': \"red\", '2': \"blue\", '3': \"Orange\"}\n",
        "my_series = pd.Series(data)\n",
        "print(my_series)"
      ],
      "metadata": {
        "colab": {
          "base_uri": "https://localhost:8080/"
        },
        "id": "8p6ykiEKYL9T",
        "outputId": "53146610-87cd-48ee-e525-9e77e05d7a5f"
      },
      "execution_count": null,
      "outputs": [
        {
          "output_type": "stream",
          "name": "stdout",
          "text": [
            "1       red\n",
            "2      blue\n",
            "3    Orange\n",
            "dtype: object\n"
          ]
        }
      ]
    },
    {
      "cell_type": "code",
      "source": [
        "import getpass\n",
        "current=getpass.getuser()\n",
        "print(current)"
      ],
      "metadata": {
        "colab": {
          "base_uri": "https://localhost:8080/"
        },
        "id": "H2rnKPXcZpba",
        "outputId": "6d202fc3-44bb-4a4e-acd1-ca041a1626c2"
      },
      "execution_count": null,
      "outputs": [
        {
          "output_type": "stream",
          "name": "stdout",
          "text": [
            "root\n"
          ]
        }
      ]
    },
    {
      "cell_type": "code",
      "source": [
        "paragraph=input(\"Enter the paragraph\")\n",
        "total_chars = len(paragraph)\n",
        "total_chars_no_space = len(paragraph.replace(\" \", \"\"))\n",
        "total_words = len(paragraph.split())\n",
        "total_spaces = paragraph.count(\" \")\n",
        "print(\"Total characters:\", total_chars)\n",
        "print(\"Total characters (excluding spaces):\", total_chars_no_space)\n",
        "print(\"Total words:\", total_words)\n",
        "print(\"Total spaces:\", total_spaces)"
      ],
      "metadata": {
        "colab": {
          "base_uri": "https://localhost:8080/"
        },
        "id": "FJ3Bu3-lag1e",
        "outputId": "b5abf45c-a722-44f9-912e-71a6f7770c67"
      },
      "execution_count": null,
      "outputs": [
        {
          "output_type": "stream",
          "name": "stdout",
          "text": [
            "Enter the paragraph\"The old oak tree stood sentinel at the edge of the meadow, its gnarled branches reaching towards the sky like skeletal fingers.\"\n",
            "Total characters: 129\n",
            "Total characters (excluding spaces): 108\n",
            "Total words: 22\n",
            "Total spaces: 21\n"
          ]
        }
      ]
    },
    {
      "cell_type": "code",
      "source": [
        "sent=\"The Quick Brown fox Jumps over the Lazy Dog.\"\n",
        "Up=sent.upper()\n",
        "low=sent.lower()\n",
        "print(Up)\n",
        "print(low)"
      ],
      "metadata": {
        "colab": {
          "base_uri": "https://localhost:8080/"
        },
        "id": "czV59QpncnSW",
        "outputId": "1996bded-1e36-4355-e86a-56fca4b3722e"
      },
      "execution_count": null,
      "outputs": [
        {
          "output_type": "stream",
          "name": "stdout",
          "text": [
            "THE QUICK BROWN FOX JUMPS OVER THE LAZY DOG.\n",
            "the quick brown fox jumps over the lazy dog.\n"
          ]
        }
      ]
    },
    {
      "cell_type": "code",
      "source": [
        "A = {3,2,4,5,6,7,8}\n",
        "B = {4,12,5,1,6,8}\n",
        "uni=A.union(B)\n",
        "inte=A.intersection(B)\n",
        "print(inte)\n",
        "print(uni)"
      ],
      "metadata": {
        "id": "EhcZiY30gn0m",
        "colab": {
          "base_uri": "https://localhost:8080/"
        },
        "outputId": "569993db-c13f-4475-cac7-398fbef71afe"
      },
      "execution_count": null,
      "outputs": [
        {
          "output_type": "stream",
          "name": "stdout",
          "text": [
            "{8, 4, 5, 6}\n",
            "{1, 2, 3, 4, 5, 6, 7, 8, 12}\n"
          ]
        }
      ]
    },
    {
      "cell_type": "code",
      "source": [
        "user=input('Enter the string name')\n",
        "if len(user)>=5:\n",
        "  print('The number is valid')\n",
        "else:\n",
        "  print('The number is invalid')"
      ],
      "metadata": {
        "colab": {
          "base_uri": "https://localhost:8080/"
        },
        "id": "tAoE6NhUpUVc",
        "outputId": "02fd69bf-89ba-4d14-d470-ca630b4fe091"
      },
      "execution_count": null,
      "outputs": [
        {
          "output_type": "stream",
          "name": "stdout",
          "text": [
            "Enter the string name1234\n",
            "The number is invalid\n"
          ]
        }
      ]
    },
    {
      "cell_type": "code",
      "source": [
        "user=int(input('Enter the number'))\n",
        "for i in range(1,11):\n",
        "  print(user,'x',i,'=',user*i)"
      ],
      "metadata": {
        "colab": {
          "base_uri": "https://localhost:8080/"
        },
        "id": "AooSWomBqlPy",
        "outputId": "e621694d-83f5-4a7f-a253-57b66fba58e4"
      },
      "execution_count": null,
      "outputs": [
        {
          "output_type": "stream",
          "name": "stdout",
          "text": [
            "Enter the number5\n",
            "5 x 1 = 5\n",
            "5 x 2 = 10\n",
            "5 x 3 = 15\n",
            "5 x 4 = 20\n",
            "5 x 5 = 25\n",
            "5 x 6 = 30\n",
            "5 x 7 = 35\n",
            "5 x 8 = 40\n",
            "5 x 9 = 45\n",
            "5 x 10 = 50\n"
          ]
        }
      ]
    },
    {
      "cell_type": "code",
      "source": [
        "lst=[1,2,3,45,60,23,46,12,10,19,14]\n",
        "first=lst[0]\n",
        "last=lst[-1]\n",
        "print(first)\n",
        "print(last)"
      ],
      "metadata": {
        "colab": {
          "base_uri": "https://localhost:8080/"
        },
        "id": "Kdk8hmWDrOYA",
        "outputId": "6972ba60-1984-4fcf-ab75-3efe4ac90728"
      },
      "execution_count": null,
      "outputs": [
        {
          "output_type": "stream",
          "name": "stdout",
          "text": [
            "1\n",
            "14\n"
          ]
        }
      ]
    },
    {
      "cell_type": "code",
      "source": [
        "user=input('Enter the word')\n",
        "vowels='aeiouAEIOU'\n",
        "count=0\n",
        "for i in user:\n",
        "  if i in vowels:\n",
        "    count+=1\n",
        "print(count)"
      ],
      "metadata": {
        "colab": {
          "base_uri": "https://localhost:8080/"
        },
        "id": "GzhPwVsYr-_F",
        "outputId": "1dc81db7-829b-4480-b7e9-b50c0da26c0f"
      },
      "execution_count": null,
      "outputs": [
        {
          "output_type": "stream",
          "name": "stdout",
          "text": [
            "Enter the wordVeerendraAMaravathi\n",
            "9\n"
          ]
        }
      ]
    },
    {
      "cell_type": "code",
      "source": [
        "num1=int(input('Enter the first number'))\n",
        "num2=int(input('Enter the second number'))\n",
        "square=num1*num2\n",
        "print(square)"
      ],
      "metadata": {
        "colab": {
          "base_uri": "https://localhost:8080/"
        },
        "id": "04BnaAyXsR9i",
        "outputId": "e87fbbce-eba3-47c3-87fa-0f41da4e1129"
      },
      "execution_count": null,
      "outputs": [
        {
          "output_type": "stream",
          "name": "stdout",
          "text": [
            "Enter the first number5\n",
            "Enter the second number5\n",
            "25\n"
          ]
        }
      ]
    },
    {
      "cell_type": "code",
      "source": [
        "students = [\n",
        "    \"Aaron Smith\",\n",
        "    \"Aanya Patel\",\n",
        "    \"John Doe\",\n",
        "    \"Jane Roe\",\n",
        "    \"Michael Clarke\",\n",
        "    \"Anna Brown\",\n",
        "    \"Aakash Sharma\",\n",
        "    \"Emily Davis\",\n",
        "    \"Andrew Johnson\",\n",
        "    \"Sophia Wilson\"\n",
        "]\n",
        "for i in students:\n",
        "  if i.startswith('AAaa'):\n",
        "    print(i)"
      ],
      "metadata": {
        "id": "poCzoLPRs37W"
      },
      "execution_count": null,
      "outputs": []
    },
    {
      "cell_type": "code",
      "source": [
        "import math\n",
        "num=math.factorial(5)\n",
        "print(num)"
      ],
      "metadata": {
        "colab": {
          "base_uri": "https://localhost:8080/"
        },
        "id": "_YXdkgWWt122",
        "outputId": "74a15628-dbe2-49a5-ea20-02bc177071e0"
      },
      "execution_count": null,
      "outputs": [
        {
          "output_type": "stream",
          "name": "stdout",
          "text": [
            "120\n"
          ]
        }
      ]
    },
    {
      "cell_type": "code",
      "source": [
        "lst=[\"praveen\",'Amaravathi']\n",
        "for i in lst:\n",
        "  low=i.lower()\n",
        "if i==low:\n",
        "  print('It is already lower')\n",
        "print(i)"
      ],
      "metadata": {
        "colab": {
          "base_uri": "https://localhost:8080/"
        },
        "id": "wBvdlpxOuhZl",
        "outputId": "7c9a186c-9761-4308-e021-9fbbe1974338"
      },
      "execution_count": null,
      "outputs": [
        {
          "output_type": "stream",
          "name": "stdout",
          "text": [
            "Amaravathi\n"
          ]
        }
      ]
    },
    {
      "cell_type": "code",
      "source": [
        "user_string = input(\"Enter a string: \")\n",
        "if \" \" in user_string:\n",
        "    print(\"The string contains spaces.\")\n",
        "else:\n",
        "    print(\"The string does not contain spaces.\")"
      ],
      "metadata": {
        "colab": {
          "base_uri": "https://localhost:8080/"
        },
        "id": "Uj-AjGIWxkRZ",
        "outputId": "9eb6671e-5f2e-4653-e520-b10432f03f5f"
      },
      "execution_count": null,
      "outputs": [
        {
          "output_type": "stream",
          "name": "stdout",
          "text": [
            "Enter a string: Amaravathi Ver\n",
            "The string contains spaces.\n"
          ]
        }
      ]
    },
    {
      "cell_type": "code",
      "source": [
        "class Car:\n",
        "  def __init__(self,make,model,year):\n",
        "    self.make=make\n",
        "    self.model=model\n",
        "    self.year=year\n",
        "  def display(self):\n",
        "    return f\"{self.year} {self.make} {self.model}\"\n",
        "cars1=Car('toyata','2016','2017')\n",
        "cars2=Car('audi','1009','2014')\n",
        "print(cars1.display())\n",
        "print(cars2.display())"
      ],
      "metadata": {
        "id": "-jF9pc-uzaDe",
        "colab": {
          "base_uri": "https://localhost:8080/"
        },
        "outputId": "6ed44643-a30e-4f05-e6fa-b1f0e8422698"
      },
      "execution_count": null,
      "outputs": [
        {
          "output_type": "stream",
          "name": "stdout",
          "text": [
            "2017 toyata 2016\n",
            "2014 audi 1009\n"
          ]
        }
      ]
    },
    {
      "cell_type": "code",
      "source": [
        "class Bankaccount:\n",
        "  def __init__(self,balance=0):\n",
        "    self.balance=balance\n",
        "  def deposit(self,amount):\n",
        "    self.amount+=amount\n",
        "    return f\"deposit{self.amount} with new balance{self.balance}\"\n",
        "  def withdraw(self,amount):\n",
        "    if self.balance>amount:\n",
        "      return \"insufficient balance\"\n",
        "    else:\n",
        "      self.balance-=amount\n",
        "      return f\"Withdrew {amount}. New balance: {self.balance}\"\n",
        "    def check_bal(self,amount):\n",
        "      return self.balance\n",
        "account = Bankaccount(100)\n",
        "print(account.deposit(50))  # Output: Deposited 50. New balance: 150\n",
        "print(account.withdraw(30))  # Output: Withdrew 30. New balance: 120\n",
        "print(account.check_balance())"
      ],
      "metadata": {
        "colab": {
          "base_uri": "https://localhost:8080/",
          "height": 332
        },
        "id": "bCdqkVJFv_J3",
        "outputId": "97f3f972-6412-4f74-8c6e-a59b8a64cadf"
      },
      "execution_count": null,
      "outputs": [
        {
          "output_type": "error",
          "ename": "AttributeError",
          "evalue": "'Bankaccount' object has no attribute 'amount'",
          "traceback": [
            "\u001b[0;31m---------------------------------------------------------------------------\u001b[0m",
            "\u001b[0;31mAttributeError\u001b[0m                            Traceback (most recent call last)",
            "\u001b[0;32m<ipython-input-8-c4c6861252a6>\u001b[0m in \u001b[0;36m<cell line: 0>\u001b[0;34m()\u001b[0m\n\u001b[1;32m     14\u001b[0m       \u001b[0;32mreturn\u001b[0m \u001b[0mself\u001b[0m\u001b[0;34m.\u001b[0m\u001b[0mbalance\u001b[0m\u001b[0;34m\u001b[0m\u001b[0;34m\u001b[0m\u001b[0m\n\u001b[1;32m     15\u001b[0m \u001b[0maccount\u001b[0m \u001b[0;34m=\u001b[0m \u001b[0mBankaccount\u001b[0m\u001b[0;34m(\u001b[0m\u001b[0;36m100\u001b[0m\u001b[0;34m)\u001b[0m\u001b[0;34m\u001b[0m\u001b[0;34m\u001b[0m\u001b[0m\n\u001b[0;32m---> 16\u001b[0;31m \u001b[0mprint\u001b[0m\u001b[0;34m(\u001b[0m\u001b[0maccount\u001b[0m\u001b[0;34m.\u001b[0m\u001b[0mdeposit\u001b[0m\u001b[0;34m(\u001b[0m\u001b[0;36m50\u001b[0m\u001b[0;34m)\u001b[0m\u001b[0;34m)\u001b[0m  \u001b[0;31m# Output: Deposited 50. New balance: 150\u001b[0m\u001b[0;34m\u001b[0m\u001b[0;34m\u001b[0m\u001b[0m\n\u001b[0m\u001b[1;32m     17\u001b[0m \u001b[0mprint\u001b[0m\u001b[0;34m(\u001b[0m\u001b[0maccount\u001b[0m\u001b[0;34m.\u001b[0m\u001b[0mwithdraw\u001b[0m\u001b[0;34m(\u001b[0m\u001b[0;36m30\u001b[0m\u001b[0;34m)\u001b[0m\u001b[0;34m)\u001b[0m  \u001b[0;31m# Output: Withdrew 30. New balance: 120\u001b[0m\u001b[0;34m\u001b[0m\u001b[0;34m\u001b[0m\u001b[0m\n\u001b[1;32m     18\u001b[0m \u001b[0mprint\u001b[0m\u001b[0;34m(\u001b[0m\u001b[0maccount\u001b[0m\u001b[0;34m.\u001b[0m\u001b[0mcheck_balance\u001b[0m\u001b[0;34m(\u001b[0m\u001b[0;34m)\u001b[0m\u001b[0;34m)\u001b[0m\u001b[0;34m\u001b[0m\u001b[0;34m\u001b[0m\u001b[0m\n",
            "\u001b[0;32m<ipython-input-8-c4c6861252a6>\u001b[0m in \u001b[0;36mdeposit\u001b[0;34m(self, amount)\u001b[0m\n\u001b[1;32m      3\u001b[0m     \u001b[0mself\u001b[0m\u001b[0;34m.\u001b[0m\u001b[0mbalance\u001b[0m\u001b[0;34m=\u001b[0m\u001b[0mbalance\u001b[0m\u001b[0;34m\u001b[0m\u001b[0;34m\u001b[0m\u001b[0m\n\u001b[1;32m      4\u001b[0m   \u001b[0;32mdef\u001b[0m \u001b[0mdeposit\u001b[0m\u001b[0;34m(\u001b[0m\u001b[0mself\u001b[0m\u001b[0;34m,\u001b[0m\u001b[0mamount\u001b[0m\u001b[0;34m)\u001b[0m\u001b[0;34m:\u001b[0m\u001b[0;34m\u001b[0m\u001b[0;34m\u001b[0m\u001b[0m\n\u001b[0;32m----> 5\u001b[0;31m     \u001b[0mself\u001b[0m\u001b[0;34m.\u001b[0m\u001b[0mamount\u001b[0m\u001b[0;34m+=\u001b[0m\u001b[0mamount\u001b[0m\u001b[0;34m\u001b[0m\u001b[0;34m\u001b[0m\u001b[0m\n\u001b[0m\u001b[1;32m      6\u001b[0m     \u001b[0;32mreturn\u001b[0m \u001b[0;34mf\"deposit{self.amount} with new balance{self.balance}\"\u001b[0m\u001b[0;34m\u001b[0m\u001b[0;34m\u001b[0m\u001b[0m\n\u001b[1;32m      7\u001b[0m   \u001b[0;32mdef\u001b[0m \u001b[0mwithdraw\u001b[0m\u001b[0;34m(\u001b[0m\u001b[0mself\u001b[0m\u001b[0;34m,\u001b[0m\u001b[0mamount\u001b[0m\u001b[0;34m)\u001b[0m\u001b[0;34m:\u001b[0m\u001b[0;34m\u001b[0m\u001b[0;34m\u001b[0m\u001b[0m\n",
            "\u001b[0;31mAttributeError\u001b[0m: 'Bankaccount' object has no attribute 'amount'"
          ]
        }
      ]
    },
    {
      "cell_type": "code",
      "source": [
        "multiply=lambda x,y:x*y\n",
        "print(multiply(5,5))"
      ],
      "metadata": {
        "colab": {
          "base_uri": "https://localhost:8080/"
        },
        "id": "ktP83r8f0o_B",
        "outputId": "69f8ec32-1807-4dc2-ae08-0647c9647e19"
      },
      "execution_count": null,
      "outputs": [
        {
          "output_type": "stream",
          "name": "stdout",
          "text": [
            "25\n"
          ]
        }
      ]
    },
    {
      "cell_type": "code",
      "source": [
        "def factorial(n):\n",
        "  if n==0:\n",
        "    return 1\n",
        "  else:\n",
        "    return factorial(n)*factorial(n-1)\n",
        "factorial(5)"
      ],
      "metadata": {
        "id": "w7P9Nghb43Pj"
      },
      "execution_count": null,
      "outputs": []
    },
    {
      "cell_type": "code",
      "source": [],
      "metadata": {
        "id": "8sRx4REZ5M6e"
      },
      "execution_count": null,
      "outputs": []
    }
  ]
}